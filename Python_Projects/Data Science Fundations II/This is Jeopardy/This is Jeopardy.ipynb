{
 "cells": [
  {
   "cell_type": "markdown",
   "metadata": {},
   "source": [
    "# This is Jeopardy!"
   ]
  },
  {
   "cell_type": "markdown",
   "metadata": {},
   "source": [
    "#### Overview"
   ]
  },
  {
   "cell_type": "markdown",
   "metadata": {},
   "source": [
    "This project is slightly different than others you have encountered thus far. Instead of a step-by-step tutorial, this project contains a series of open-ended requirements which describe the project you'll be building. There are many possible ways to correctly fulfill all of these requirements, and you should expect to use the internet, Codecademy, and/or other resources when you encounter a problem that you cannot easily solve."
   ]
  },
  {
   "cell_type": "markdown",
   "metadata": {},
   "source": [
    "#### Project Goals"
   ]
  },
  {
   "cell_type": "markdown",
   "metadata": {},
   "source": [
    "You will work to write several functions that investigate a dataset of _Jeopardy!_ questions and answers. Filter the dataset for topics that you're interested in, compute the average difficulty of those questions, and train to become the next Jeopardy champion!"
   ]
  },
  {
   "cell_type": "markdown",
   "metadata": {},
   "source": [
    "## Prerequisites"
   ]
  },
  {
   "cell_type": "markdown",
   "metadata": {},
   "source": [
    "In order to complete this project, you should have completed the Pandas lessons in the <a href=\"https://www.codecademy.com/learn/paths/analyze-data-with-python\">Analyze Data with Python Skill Path</a>. You can also find those lessons in the <a href=\"https://www.codecademy.com/learn/data-processing-pandas\">Data Analysis with Pandas course</a> or the <a href=\"https://www.codecademy.com/learn/paths/data-science/\">Data Scientist Career Path</a>.\n",
    "\n",
    "Finally, the <a href=\"https://www.codecademy.com/learn/practical-data-cleaning\">Practical Data Cleaning</a> course may also be helpful."
   ]
  },
  {
   "cell_type": "markdown",
   "metadata": {},
   "source": [
    "## Project Requirements"
   ]
  },
  {
   "cell_type": "markdown",
   "metadata": {},
   "source": [
    "1. We've provided a csv file containing data about the game show _Jeopardy!_ in a file named `jeopardy.csv`. Load the data into a DataFrame and investigate its contents. Try to print out specific columns.\n",
    "\n",
    "   Note that in order to make this project as \"real-world\" as possible, we haven't modified the data at all - we're giving it to you exactly how we found it. As a result, this data isn't as \"clean\" as the datasets you normally find on Codecademy. More specifically, there's something odd about the column names. After you figure out the problem with the column names, you may want to rename them to make your life easier for the rest of the project.\n",
    "   \n",
    "   In order to display the full contents of a column, we've added this line of code for you:\n",
    "   \n",
    "   ```py\n",
    "   pd.set_option('display.max_colwidth', None)\n",
    "   ```"
   ]
  },
  {
   "cell_type": "code",
   "execution_count": 84,
   "metadata": {},
   "outputs": [
    {
     "name": "stdout",
     "output_type": "stream",
     "text": [
      "   Show_Number    Air_Date      Round                         Category Value  \\\n",
      "0         4680  2004-12-31  Jeopardy!                          HISTORY  $200   \n",
      "1         4680  2004-12-31  Jeopardy!  ESPN's TOP 10 ALL-TIME ATHLETES  $200   \n",
      "2         4680  2004-12-31  Jeopardy!      EVERYBODY TALKS ABOUT IT...  $200   \n",
      "3         4680  2004-12-31  Jeopardy!                 THE COMPANY LINE  $200   \n",
      "4         4680  2004-12-31  Jeopardy!              EPITAPHS & TRIBUTES  $200   \n",
      "\n",
      "                                                                                                      Question  \\\n",
      "0             For the last 8 years of his life, Galileo was under house arrest for espousing this man's theory   \n",
      "1  No. 2: 1912 Olympian; football star at Carlisle Indian School; 6 MLB seasons with the Reds, Giants & Braves   \n",
      "2                     The city of Yuma in this state has a record average of 4,055 hours of sunshine each year   \n",
      "3                         In 1963, live on \"The Art Linkletter Show\", this company served its billionth burger   \n",
      "4     Signer of the Dec. of Indep., framer of the Constitution of Mass., second President of the United States   \n",
      "\n",
      "       Answer  \n",
      "0  Copernicus  \n",
      "1  Jim Thorpe  \n",
      "2     Arizona  \n",
      "3  McDonald's  \n",
      "4  John Adams  \n"
     ]
    }
   ],
   "source": [
    "import pandas as pd\n",
    "import numpy as np\n",
    "\n",
    "with open (\"jeopardy.csv\") as jeopardy_file:\n",
    "    #read csv file and convert to dictionary\n",
    "    jeopardy_csv_dict = pd.read_csv(jeopardy_file)\n",
    "    #eliminates spaces before and after the strings and replaces space with semicolon\n",
    "    jeopardy_csv_dict.columns =  jeopardy_csv_dict.columns.str.strip().str.replace(' ', '_')\n",
    "    pd.set_option('display.max_colwidth', None)\n",
    "print(jeopardy_csv_dict.head())\n"
   ]
  },
  {
   "cell_type": "markdown",
   "metadata": {},
   "source": [
    "2. Write a function that filters the dataset for questions that contains all of the words in a list of words. For example, when the list `[\"King\", \"England\"]` was passed to our function, the function returned a DataFrame of 49 rows. Every row had the strings `\"King\"` and `\"England\"` somewhere in its `\" Question\"`.\n",
    "\n",
    "   Test your function by printing out the column containing the question of each row of the dataset."
   ]
  },
  {
   "cell_type": "code",
   "execution_count": 85,
   "metadata": {},
   "outputs": [
    {
     "name": "stderr",
     "output_type": "stream",
     "text": [
      "C:\\Users\\cuate\\AppData\\Local\\Temp\\ipykernel_13212\\4225796184.py:6: UserWarning: This pattern is interpreted as a regular expression, and has match groups. To actually get the groups, use str.extract.\n",
      "  filtered_list = jeopardy_csv_dict[jeopardy_csv_dict.Question.str.contains(pattern, case=False)]\n"
     ]
    },
    {
     "name": "stdout",
     "output_type": "stream",
     "text": [
      "3719\n",
      "0    <a href=\"http://www.j-archive.com/media/2004-12-31_DJ_26.mp3\">Ripped from today's headlines, he was a turtle king gone mad; Mack was the one good turtle who'd bring him down</a>\n",
      "1                  <a href=\"http://www.j-archive.com/media/2004-12-31_DJ_24.mp3\">\"500 Hats\"... 500 ways to die.  On July 4th, this young boy will defy a king... & become a legend</a>\n",
      "2                                                                                                                 She was born in Virginia around 1596 & died in Kent, England in 1617\n",
      "3                                                                                      After a 15-year stay in England, this proprietor of Pennsylvania returned to his colony in 1699\n",
      "4                                                                                             On December 27, 1831 it departed Plymouth, England to map the coastline of South America\n",
      "Name: Question, dtype: object\n"
     ]
    }
   ],
   "source": [
    "list_to_filter = [\"King\", \"England\"]\n",
    "def filter_questions (jeopardy_csv_dict,filter_words):\n",
    "    #this function joins the words and set boundaries to avoid words like kingdoms, etc.\n",
    "    pattern = r'\\b(' + '|'.join(filter_words) + r')\\b'\n",
    "    #use str.contains to search the column question\n",
    "    filtered_list = jeopardy_csv_dict[jeopardy_csv_dict.Question.str.contains(pattern, case=False)]\n",
    "    #reset indexing\n",
    "    filtered_list = filtered_list.reset_index()\n",
    "    return filtered_list\n",
    "filtered_list = filter_questions(jeopardy_csv_dict,list_to_filter)\n",
    "print(len(filtered_list))\n",
    "print(filtered_list.Question.head())\n"
   ]
  },
  {
   "cell_type": "markdown",
   "metadata": {},
   "source": [
    "3. Test your original function with a few different sets of words to try to find some ways your function breaks. Edit your function so it is more robust.\n",
    "\n",
    "   For example, think about capitalization. We probably want to find questions that contain the word `\"King\"` or `\"king\"`.\n",
    "   \n",
    "   You may also want to check to make sure you don't find rows that contain substrings of your given words. For example, our function found a question that didn't contain the word `\"king\"`, however it did contain the word `\"viking\"` &mdash; it found the `\"king\"` inside `\"viking\"`. Note that this also comes with some drawbacks &mdash; you would no longer find questions that contained words like `\"England's\"`."
   ]
  },
  {
   "cell_type": "code",
   "execution_count": 86,
   "metadata": {},
   "outputs": [
    {
     "name": "stdout",
     "output_type": "stream",
     "text": [
      "4953                    Both England's King George V & FDR put their stamp of approval on this \"King of Hobbies\"\n",
      "6337      In retaliation for Viking raids, this \"Unready\" king of England attacks Norse areas of the Isle of Man\n",
      "9191                    This king of England beat the odds to trounce the French in the 1415 Battle of Agincourt\n",
      "11710               This Scotsman, the first Stuart king of England, was called \"The Wisest Fool in Christendom\"\n",
      "13454                                       It's the number that followed the last king of England named William\n",
      "                                                           ...                                                  \n",
      "208295        In 1066 this great-great grandson of Rollo made what some call the last Viking invasion of England\n",
      "208742                      Dutch-born king who ruled England jointly with Mary II & is a tasty New Zealand fish\n",
      "213870                In 1781 William Herschel discovered Uranus & initially named it after this king of England\n",
      "216021          His nickname was \"Bertie\", but he used this name & number when he became king of England in 1901\n",
      "216789        This kingdom of England grew from 2 settlements, one founded around 495 by Cerdic & his son Cynric\n",
      "Name: Question, Length: 152, dtype: object\n"
     ]
    }
   ],
   "source": [
    "def filter_questions_modified (jeopardy_csv_dict,list_to_filter):\n",
    "    filtered_list_2 = jeopardy_csv_dict[jeopardy_csv_dict.apply(lambda row: all(word.lower() in row['Question'].lower() for word in list_to_filter), axis=1)]\n",
    "    return filtered_list_2\n",
    "filtered_list = filter_questions_modified(jeopardy_csv_dict,list_to_filter)\n",
    "print(filtered_list.Question)"
   ]
  },
  {
   "cell_type": "markdown",
   "metadata": {},
   "source": [
    "4. We may want to eventually compute aggregate statistics, like `.mean()` on the `\" Value\"` column. But right now, the values in that column are strings. Convert the`\" Value\"` column to floats. If you'd like to, you can create a new column with float values.\n",
    "\n",
    "   While most of the values in the `\" Value\"` column represent a dollar amount as a string, note that some do not &mdash; these values will need to be handled differently!\n",
    "\n",
    "   Now that you can filter the dataset of question, use your new column that contains the float values of each question to find the \"difficulty\" of certain topics. For example, what is the average value of questions that contain the word `\"King\"`?\n",
    "   \n",
    "   Make sure to use the dataset that contains the float values as the dataset you use in your filtering function."
   ]
  },
  {
   "cell_type": "code",
   "execution_count": 87,
   "metadata": {},
   "outputs": [
    {
     "name": "stdout",
     "output_type": "stream",
     "text": [
      "739.99\n",
      "771.88\n"
     ]
    }
   ],
   "source": [
    "#replace symbols with spaces and comma with point\n",
    "jeopardy_csv_dict[\"Value_float\"] = jeopardy_csv_dict.Value.str.replace('$','').str.replace(',','')\n",
    "#convert new column to float, errors to convert non numeric to NaN and replacing NaN with 0 with fillna\n",
    "jeopardy_csv_dict['Value_float'] = pd.to_numeric(jeopardy_csv_dict['Value_float'], errors='coerce').fillna(0).astype(float)\n",
    "print(round(jeopardy_csv_dict.Value_float.mean(),2))\n",
    "#function to calculate the average of questions value\n",
    "words = [\"King\"]\n",
    "def avg_value_questions (jeopardy_csv_dict,word_value):\n",
    "    #filter questions by \"words\" list\n",
    "    filtered_questions_by_words = jeopardy_csv_dict[jeopardy_csv_dict.apply(lambda row: all(word.lower() in row['Question'].lower() for word in word_value), axis=1)]\n",
    "    #calculate the average of the value float column\n",
    "    avg_value = filtered_questions_by_words.Value_float.mean()\n",
    "    return round(avg_value,2)\n",
    "\n",
    "avg_value = avg_value_questions(jeopardy_csv_dict,words)\n",
    "print(avg_value)"
   ]
  },
  {
   "cell_type": "markdown",
   "metadata": {},
   "source": [
    "5. Write a function that returns the count of unique answers to all of the questions in a dataset. For example, after filtering the entire dataset to only questions containing the word `\"King\"`, we could then find all of the unique answers to those questions. The answer \"Henry VIII\" appeared 55 times and was the most common answer."
   ]
  },
  {
   "cell_type": "code",
   "execution_count": 88,
   "metadata": {},
   "outputs": [
    {
     "name": "stdout",
     "output_type": "stream",
     "text": [
      "Answer\n",
      "Henry VIII                   55\n",
      "Solomon                      35\n",
      "Richard III                  33\n",
      "Louis XIV                    31\n",
      "David                        30\n",
      "                             ..\n",
      "cardiac (in card I acted)     1\n",
      "Henderson                     1\n",
      "Computer                      1\n",
      "Indians                       1\n",
      "work                          1\n",
      "Name: count, Length: 5268, dtype: int64\n"
     ]
    }
   ],
   "source": [
    "def unique_answers (filtered_list,word_value):\n",
    "    #filter the data set by the word in question\n",
    "    filtered_list_question = filtered_list[filtered_list.apply(lambda row: all(word_value.lower() in row['Question'].lower() for word_value in word_value), axis=1)]\n",
    "    #count unique values in thr row Answer\n",
    "    count_unique_answers = filtered_list_question[\"Answer\"].value_counts()\n",
    "    return count_unique_answers\n",
    "\n",
    "unique_answeres_data = unique_answers(jeopardy_csv_dict,[\"King\"])\n",
    "print(unique_answeres_data)\n",
    "    "
   ]
  },
  {
   "cell_type": "markdown",
   "metadata": {},
   "source": [
    "6. Explore from here! This is an incredibly rich dataset, and there are so many interesting things to discover. There are a few columns that we haven't even started looking at yet. Here are some ideas on ways to continue working with this data:\n",
    "\n",
    " * Investigate the ways in which questions change over time by filtering by the date. How many questions from the 90s use the word `\"Computer\"` compared to questions from the 2000s?\n",
    " * Is there a connection between the round and the category? Are you more likely to find certain categories, like `\"Literature\"` in Single Jeopardy or Double Jeopardy?\n",
    " * Build a system to quiz yourself. Grab random questions, and use the <a href=\"https://docs.python.org/3/library/functions.html#input\">input</a> function to get a response from the user. Check to see if that response was right or wrong."
   ]
  },
  {
   "cell_type": "code",
   "execution_count": 111,
   "metadata": {},
   "outputs": [
    {
     "name": "stdout",
     "output_type": "stream",
     "text": [
      "Category    \"EVER\"S  \"I\"s IN THE PRIZE  20th CENTURY ARTISTS  \\\n",
      "Air_Date                                                       \n",
      "2011-01-05      NaN             2400.0                   NaN   \n",
      "2011-01-10      NaN                NaN                   NaN   \n",
      "2011-01-11      NaN                NaN                   0.0   \n",
      "2011-01-12      NaN                NaN                   NaN   \n",
      "2011-01-19      NaN                NaN                   NaN   \n",
      "2011-01-24      NaN                NaN                   NaN   \n",
      "2011-01-26      NaN                NaN                   NaN   \n",
      "2011-02-01      NaN                NaN                   NaN   \n",
      "2011-02-08      NaN                NaN                   NaN   \n",
      "2011-02-09      NaN                NaN                   NaN   \n",
      "2011-02-11      NaN                NaN                   NaN   \n",
      "2011-02-28      NaN                NaN                   NaN   \n",
      "2011-03-02      NaN                NaN                   NaN   \n",
      "2011-03-04      NaN                NaN                   NaN   \n",
      "2011-03-07      NaN                NaN                   NaN   \n",
      "2011-03-11      NaN                NaN                   NaN   \n",
      "2011-04-22      NaN                NaN                   NaN   \n",
      "2011-04-28      NaN                NaN                   NaN   \n",
      "2011-05-13      NaN                NaN                   NaN   \n",
      "2011-05-20      NaN                NaN                   NaN   \n",
      "2011-05-31      NaN                NaN                   NaN   \n",
      "2011-06-07      NaN                NaN                   NaN   \n",
      "2011-06-10      NaN                NaN                   NaN   \n",
      "2011-06-13      NaN                NaN                   NaN   \n",
      "2011-06-21      NaN                NaN                   NaN   \n",
      "2011-06-22      NaN                NaN                   NaN   \n",
      "2011-07-01      NaN                NaN                   NaN   \n",
      "2011-07-04      NaN                NaN                   NaN   \n",
      "2011-07-11      NaN                NaN                   NaN   \n",
      "2011-07-13   1200.0                NaN                   NaN   \n",
      "2011-07-18      NaN                NaN                   NaN   \n",
      "2011-07-19      NaN                NaN                   NaN   \n",
      "2011-07-21      NaN                NaN                   NaN   \n",
      "2011-07-22      NaN                NaN                   NaN   \n",
      "2011-09-19      NaN                NaN                   NaN   \n",
      "2011-09-22      NaN                NaN                   NaN   \n",
      "2011-10-06      NaN                NaN                   NaN   \n",
      "2011-10-26      NaN                NaN                   NaN   \n",
      "2011-10-28      NaN                NaN                   NaN   \n",
      "2011-10-31      NaN                NaN                   NaN   \n",
      "2011-11-08      NaN                NaN                   NaN   \n",
      "2011-11-09      NaN                NaN                   NaN   \n",
      "2011-11-16      NaN                NaN                   NaN   \n",
      "2011-11-24      NaN                NaN                   NaN   \n",
      "2011-11-28      NaN                NaN                   NaN   \n",
      "2011-12-05      NaN                NaN                   NaN   \n",
      "2011-12-15      NaN                NaN                   NaN   \n",
      "2011-12-19      NaN                NaN                   NaN   \n",
      "2011-12-20      NaN                NaN                   NaN   \n",
      "2011-12-23      NaN                NaN                   NaN   \n",
      "2012-01-19      NaN                NaN                   NaN   \n",
      "2012-01-25      NaN                NaN                   NaN   \n",
      "\n",
      "Category    AIRLINES' HOME COUNTRIES  ALL SAINTS DAYS  AMERICAN ART & ARTISTS  \\\n",
      "Air_Date                                                                        \n",
      "2011-01-05                       NaN              NaN                     NaN   \n",
      "2011-01-10                       NaN              NaN                     NaN   \n",
      "2011-01-11                       NaN              NaN                     NaN   \n",
      "2011-01-12                       NaN              NaN                     NaN   \n",
      "2011-01-19                       NaN              NaN                     NaN   \n",
      "2011-01-24                     200.0              NaN                     NaN   \n",
      "2011-01-26                       NaN              NaN                     NaN   \n",
      "2011-02-01                       NaN              NaN                     NaN   \n",
      "2011-02-08                       NaN              NaN                     NaN   \n",
      "2011-02-09                       NaN              NaN                     NaN   \n",
      "2011-02-11                       NaN              NaN                     NaN   \n",
      "2011-02-28                       NaN              NaN                     NaN   \n",
      "2011-03-02                       NaN              NaN                     NaN   \n",
      "2011-03-04                       NaN              NaN                     NaN   \n",
      "2011-03-07                       NaN              NaN                     NaN   \n",
      "2011-03-11                       NaN              NaN                     NaN   \n",
      "2011-04-22                       NaN              NaN                     NaN   \n",
      "2011-04-28                       NaN              NaN                     NaN   \n",
      "2011-05-13                       NaN              NaN                     NaN   \n",
      "2011-05-20                       NaN              NaN                     NaN   \n",
      "2011-05-31                       NaN              NaN                     NaN   \n",
      "2011-06-07                       NaN              NaN                     NaN   \n",
      "2011-06-10                       NaN              NaN                     NaN   \n",
      "2011-06-13                       NaN              NaN                     NaN   \n",
      "2011-06-21                       NaN              NaN                     NaN   \n",
      "2011-06-22                       NaN              NaN                     NaN   \n",
      "2011-07-01                       NaN              NaN                     NaN   \n",
      "2011-07-04                       NaN              NaN                     NaN   \n",
      "2011-07-11                       NaN              NaN                     NaN   \n",
      "2011-07-13                       NaN              NaN                     NaN   \n",
      "2011-07-18                       NaN              NaN                     NaN   \n",
      "2011-07-19                       NaN              NaN                     NaN   \n",
      "2011-07-21                       NaN              NaN                     NaN   \n",
      "2011-07-22                       NaN              NaN                     NaN   \n",
      "2011-09-19                       NaN              NaN                     NaN   \n",
      "2011-09-22                       NaN              NaN                     NaN   \n",
      "2011-10-06                       NaN              NaN                     NaN   \n",
      "2011-10-26                       NaN              NaN                   800.0   \n",
      "2011-10-28                       NaN              NaN                     NaN   \n",
      "2011-10-31                       NaN              NaN                     NaN   \n",
      "2011-11-08                       NaN            800.0                     NaN   \n",
      "2011-11-09                       NaN              NaN                     NaN   \n",
      "2011-11-16                       NaN              NaN                     NaN   \n",
      "2011-11-24                       NaN              NaN                     NaN   \n",
      "2011-11-28                       NaN              NaN                     NaN   \n",
      "2011-12-05                       NaN              NaN                     NaN   \n",
      "2011-12-15                       NaN              NaN                     NaN   \n",
      "2011-12-19                       NaN              NaN                     NaN   \n",
      "2011-12-20                       NaN              NaN                     NaN   \n",
      "2011-12-23                       NaN              NaN                     NaN   \n",
      "2012-01-19                       NaN              NaN                     NaN   \n",
      "2012-01-25                       NaN              NaN                     NaN   \n",
      "\n",
      "Category    AMERICAN LITERATURE  ANNUAL EVENTS  ART QUOTES  ARTISTS  ...  \\\n",
      "Air_Date                                                             ...   \n",
      "2011-01-05                  NaN            NaN         NaN      NaN  ...   \n",
      "2011-01-10                  NaN            NaN         NaN      NaN  ...   \n",
      "2011-01-11                  NaN            NaN         NaN      NaN  ...   \n",
      "2011-01-12                  NaN            NaN         NaN      NaN  ...   \n",
      "2011-01-19                  NaN            NaN         NaN      NaN  ...   \n",
      "2011-01-24                  NaN            NaN         NaN      NaN  ...   \n",
      "2011-01-26                  NaN            NaN      2000.0      NaN  ...   \n",
      "2011-02-01                  NaN            NaN         NaN      NaN  ...   \n",
      "2011-02-08                  NaN            NaN         NaN      NaN  ...   \n",
      "2011-02-09                  NaN            NaN         NaN      NaN  ...   \n",
      "2011-02-11                  NaN            NaN         NaN      NaN  ...   \n",
      "2011-02-28                200.0            NaN         NaN      NaN  ...   \n",
      "2011-03-02                  NaN            NaN         NaN      NaN  ...   \n",
      "2011-03-04                  NaN            NaN         NaN      NaN  ...   \n",
      "2011-03-07                  NaN            NaN         NaN      NaN  ...   \n",
      "2011-03-11                  NaN            NaN         NaN      NaN  ...   \n",
      "2011-04-22                  NaN            NaN         NaN      NaN  ...   \n",
      "2011-04-28                  NaN            NaN         NaN      NaN  ...   \n",
      "2011-05-13                  NaN            NaN         NaN      NaN  ...   \n",
      "2011-05-20                  NaN            NaN         NaN      NaN  ...   \n",
      "2011-05-31                  NaN            NaN         NaN      NaN  ...   \n",
      "2011-06-07                  NaN          400.0         NaN      NaN  ...   \n",
      "2011-06-10                  NaN            NaN         NaN    800.0  ...   \n",
      "2011-06-13                  NaN            NaN         NaN      NaN  ...   \n",
      "2011-06-21                  NaN            NaN         NaN      NaN  ...   \n",
      "2011-06-22                  NaN            NaN         NaN      NaN  ...   \n",
      "2011-07-01                  NaN            NaN         NaN      NaN  ...   \n",
      "2011-07-04                  NaN            NaN         NaN      NaN  ...   \n",
      "2011-07-11                  NaN            NaN         NaN      NaN  ...   \n",
      "2011-07-13                  NaN            NaN         NaN      NaN  ...   \n",
      "2011-07-18                  NaN            NaN         NaN      NaN  ...   \n",
      "2011-07-19                  NaN            NaN         NaN      NaN  ...   \n",
      "2011-07-21                  NaN            NaN         NaN      NaN  ...   \n",
      "2011-07-22                  NaN            NaN         NaN      NaN  ...   \n",
      "2011-09-19                  NaN            NaN         NaN      NaN  ...   \n",
      "2011-09-22                  NaN            NaN         NaN      NaN  ...   \n",
      "2011-10-06                  NaN            NaN         NaN      NaN  ...   \n",
      "2011-10-26                  NaN            NaN         NaN      NaN  ...   \n",
      "2011-10-28                  NaN            NaN         NaN      NaN  ...   \n",
      "2011-10-31                  NaN            NaN         NaN      NaN  ...   \n",
      "2011-11-08                  NaN            NaN         NaN      NaN  ...   \n",
      "2011-11-09                  NaN            NaN         NaN      NaN  ...   \n",
      "2011-11-16                  NaN            NaN         NaN      NaN  ...   \n",
      "2011-11-24                  NaN            NaN         NaN      NaN  ...   \n",
      "2011-11-28                  NaN            NaN         NaN      NaN  ...   \n",
      "2011-12-05                  NaN            NaN         NaN      NaN  ...   \n",
      "2011-12-15                  NaN            NaN         NaN      NaN  ...   \n",
      "2011-12-19                  NaN            NaN         NaN      NaN  ...   \n",
      "2011-12-20                  NaN            NaN         NaN      NaN  ...   \n",
      "2011-12-23                  NaN            NaN         NaN      NaN  ...   \n",
      "2012-01-19                  NaN            NaN         NaN      NaN  ...   \n",
      "2012-01-25                  NaN            NaN         NaN      NaN  ...   \n",
      "\n",
      "Category    THE LANGUAGE OF LOVE  THE MOTION OF THE OCEAN  THEODORE ROOSEVELT  \\\n",
      "Air_Date                                                                        \n",
      "2011-01-05                   NaN                      NaN                 NaN   \n",
      "2011-01-10                   NaN                      NaN                 NaN   \n",
      "2011-01-11                   NaN                      NaN                 NaN   \n",
      "2011-01-12                   NaN                      NaN                 NaN   \n",
      "2011-01-19                   NaN                      NaN                 NaN   \n",
      "2011-01-24                   NaN                      NaN                 NaN   \n",
      "2011-01-26                   NaN                      NaN                 NaN   \n",
      "2011-02-01                   NaN                      NaN                 NaN   \n",
      "2011-02-08                   NaN                      NaN                 NaN   \n",
      "2011-02-09                   NaN                      NaN                 NaN   \n",
      "2011-02-11                   NaN                      NaN                 NaN   \n",
      "2011-02-28                   NaN                      NaN                 NaN   \n",
      "2011-03-02                   NaN                      NaN                 NaN   \n",
      "2011-03-04                   NaN                      NaN                 NaN   \n",
      "2011-03-07                 800.0                      NaN                 NaN   \n",
      "2011-03-11                   NaN                      NaN                 NaN   \n",
      "2011-04-22                   NaN                      NaN                 NaN   \n",
      "2011-04-28                   NaN                      NaN                 NaN   \n",
      "2011-05-13                   NaN                      NaN                 NaN   \n",
      "2011-05-20                   NaN                      NaN                 NaN   \n",
      "2011-05-31                   NaN                      NaN              1600.0   \n",
      "2011-06-07                   NaN                      NaN                 NaN   \n",
      "2011-06-10                   NaN                      NaN                 NaN   \n",
      "2011-06-13                   NaN                      NaN                 NaN   \n",
      "2011-06-21                   NaN                      NaN                 NaN   \n",
      "2011-06-22                   NaN                      NaN                 NaN   \n",
      "2011-07-01                   NaN                      NaN                 NaN   \n",
      "2011-07-04                   NaN                      NaN                 NaN   \n",
      "2011-07-11                   NaN                      NaN                 NaN   \n",
      "2011-07-13                   NaN                      NaN                 NaN   \n",
      "2011-07-18                   NaN                      NaN                 NaN   \n",
      "2011-07-19                   NaN                      NaN                 NaN   \n",
      "2011-07-21                   NaN                      NaN                 NaN   \n",
      "2011-07-22                   NaN                      NaN                 NaN   \n",
      "2011-09-19                   NaN                      NaN                 NaN   \n",
      "2011-09-22                   NaN                      NaN                 NaN   \n",
      "2011-10-06                   NaN                    800.0                 NaN   \n",
      "2011-10-26                   NaN                      NaN                 NaN   \n",
      "2011-10-28                   NaN                      NaN                 NaN   \n",
      "2011-10-31                   NaN                      NaN                 NaN   \n",
      "2011-11-08                   NaN                      NaN                 NaN   \n",
      "2011-11-09                   NaN                      NaN                 NaN   \n",
      "2011-11-16                   NaN                      NaN                 NaN   \n",
      "2011-11-24                   NaN                      NaN                 NaN   \n",
      "2011-11-28                   NaN                      NaN                 NaN   \n",
      "2011-12-05                   NaN                      NaN                 NaN   \n",
      "2011-12-15                   NaN                      NaN                 NaN   \n",
      "2011-12-19                   NaN                      NaN                 NaN   \n",
      "2011-12-20                   NaN                      NaN                 NaN   \n",
      "2011-12-23                   NaN                      NaN                 NaN   \n",
      "2012-01-19                   NaN                      NaN                 NaN   \n",
      "2012-01-25                   NaN                      NaN                 NaN   \n",
      "\n",
      "Category    TOUCHED BY AN ANGEL  TV JUDGES  TV TO MOVIE ROLES  WATER CARRIERS  \\\n",
      "Air_Date                                                                        \n",
      "2011-01-05                  NaN        NaN                NaN             NaN   \n",
      "2011-01-10                  NaN        NaN                NaN             NaN   \n",
      "2011-01-11                  NaN        NaN                NaN             NaN   \n",
      "2011-01-12                  NaN        NaN                NaN             NaN   \n",
      "2011-01-19                  NaN        NaN                NaN             NaN   \n",
      "2011-01-24                  NaN        NaN                NaN             NaN   \n",
      "2011-01-26                  NaN        NaN                NaN             NaN   \n",
      "2011-02-01                  NaN        NaN                NaN             NaN   \n",
      "2011-02-08                  NaN        NaN                NaN             NaN   \n",
      "2011-02-09                  NaN      400.0                NaN             NaN   \n",
      "2011-02-11                  NaN        NaN                NaN             NaN   \n",
      "2011-02-28                  NaN        NaN                NaN             NaN   \n",
      "2011-03-02                  NaN        NaN                NaN             NaN   \n",
      "2011-03-04                  NaN        NaN                NaN             NaN   \n",
      "2011-03-07                  NaN        NaN                NaN             NaN   \n",
      "2011-03-11                  NaN        NaN                NaN             NaN   \n",
      "2011-04-22                  NaN        NaN                NaN             NaN   \n",
      "2011-04-28                  NaN        NaN                NaN             NaN   \n",
      "2011-05-13                  NaN        NaN                NaN             NaN   \n",
      "2011-05-20                  NaN        NaN                NaN             NaN   \n",
      "2011-05-31                  NaN        NaN                NaN             NaN   \n",
      "2011-06-07                  NaN        NaN                NaN             NaN   \n",
      "2011-06-10                  NaN        NaN                NaN             NaN   \n",
      "2011-06-13                  NaN        NaN                NaN             NaN   \n",
      "2011-06-21                  NaN        NaN                NaN             NaN   \n",
      "2011-06-22                  NaN        NaN                NaN             NaN   \n",
      "2011-07-01                  NaN        NaN                NaN             NaN   \n",
      "2011-07-04                  NaN        NaN                NaN             NaN   \n",
      "2011-07-11                  NaN        NaN                NaN             NaN   \n",
      "2011-07-13                  NaN        NaN                NaN             NaN   \n",
      "2011-07-18                  NaN        NaN                NaN          2000.0   \n",
      "2011-07-19                  NaN        NaN                NaN             NaN   \n",
      "2011-07-21                  NaN        NaN                NaN             NaN   \n",
      "2011-07-22                  NaN        NaN                NaN             NaN   \n",
      "2011-09-19                  NaN        NaN                NaN             NaN   \n",
      "2011-09-22                  NaN        NaN                NaN             NaN   \n",
      "2011-10-06                  NaN        NaN                NaN             NaN   \n",
      "2011-10-26                  NaN        NaN                NaN             NaN   \n",
      "2011-10-28                  NaN        NaN                NaN             NaN   \n",
      "2011-10-31                  NaN        NaN                NaN             NaN   \n",
      "2011-11-08                  NaN        NaN                NaN             NaN   \n",
      "2011-11-09                  NaN        NaN                NaN             NaN   \n",
      "2011-11-16                  NaN        NaN                NaN             NaN   \n",
      "2011-11-24                  NaN        NaN                NaN             NaN   \n",
      "2011-11-28                  NaN        NaN                NaN             NaN   \n",
      "2011-12-05                  NaN        NaN                NaN             NaN   \n",
      "2011-12-15                  NaN        NaN                NaN             NaN   \n",
      "2011-12-19                  NaN        NaN                NaN             NaN   \n",
      "2011-12-20                800.0        NaN                NaN             NaN   \n",
      "2011-12-23                  NaN        NaN                NaN             NaN   \n",
      "2012-01-19                  NaN        NaN                NaN             NaN   \n",
      "2012-01-25                  NaN        NaN              600.0             NaN   \n",
      "\n",
      "Category    WHO'S BIBLICALLY SPEAKING?  WORLD OF SOUP  YOU'RE EXCOMMUNICATED  \n",
      "Air_Date                                                                      \n",
      "2011-01-05                         NaN            NaN                    NaN  \n",
      "2011-01-10                         NaN            NaN                    NaN  \n",
      "2011-01-11                         NaN            NaN                    NaN  \n",
      "2011-01-12                         NaN            NaN                    NaN  \n",
      "2011-01-19                         NaN            NaN                    NaN  \n",
      "2011-01-24                         NaN            NaN                    NaN  \n",
      "2011-01-26                         NaN            NaN                    NaN  \n",
      "2011-02-01                         NaN            NaN                    NaN  \n",
      "2011-02-08                         NaN            NaN                    NaN  \n",
      "2011-02-09                         NaN            NaN                    NaN  \n",
      "2011-02-11                         NaN            NaN                    NaN  \n",
      "2011-02-28                         NaN            NaN                    NaN  \n",
      "2011-03-02                         NaN            NaN                    NaN  \n",
      "2011-03-04                         NaN            NaN                    NaN  \n",
      "2011-03-07                         NaN            NaN                    NaN  \n",
      "2011-03-11                         NaN            NaN                    NaN  \n",
      "2011-04-22                         NaN            NaN                    NaN  \n",
      "2011-04-28                         NaN            NaN                    NaN  \n",
      "2011-05-13                         NaN            NaN                    NaN  \n",
      "2011-05-20                         NaN          200.0                    NaN  \n",
      "2011-05-31                         NaN            NaN                    NaN  \n",
      "2011-06-07                         NaN            NaN                    NaN  \n",
      "2011-06-10                         NaN            NaN                    NaN  \n",
      "2011-06-13                         NaN            NaN                 1200.0  \n",
      "2011-06-21                         NaN            NaN                    NaN  \n",
      "2011-06-22                         NaN            NaN                    NaN  \n",
      "2011-07-01                         NaN            NaN                    NaN  \n",
      "2011-07-04                         NaN            NaN                    NaN  \n",
      "2011-07-11                         NaN            NaN                    NaN  \n",
      "2011-07-13                         NaN            NaN                    NaN  \n",
      "2011-07-18                         NaN            NaN                    NaN  \n",
      "2011-07-19                         NaN            NaN                    NaN  \n",
      "2011-07-21                         NaN            NaN                    NaN  \n",
      "2011-07-22                         NaN            NaN                    NaN  \n",
      "2011-09-19                       200.0            NaN                    NaN  \n",
      "2011-09-22                         NaN            NaN                    NaN  \n",
      "2011-10-06                         NaN            NaN                    NaN  \n",
      "2011-10-26                         NaN            NaN                    NaN  \n",
      "2011-10-28                         NaN            NaN                    NaN  \n",
      "2011-10-31                         NaN            NaN                    NaN  \n",
      "2011-11-08                         NaN            NaN                    NaN  \n",
      "2011-11-09                         NaN            NaN                    NaN  \n",
      "2011-11-16                         NaN            NaN                    NaN  \n",
      "2011-11-24                         NaN            NaN                    NaN  \n",
      "2011-11-28                         NaN            NaN                    NaN  \n",
      "2011-12-05                         NaN            NaN                    NaN  \n",
      "2011-12-15                         NaN            NaN                    NaN  \n",
      "2011-12-19                         NaN            NaN                    NaN  \n",
      "2011-12-20                         NaN            NaN                    NaN  \n",
      "2011-12-23                         NaN            NaN                    NaN  \n",
      "2012-01-19                         NaN            NaN                    NaN  \n",
      "2012-01-25                         NaN            NaN                    NaN  \n",
      "\n",
      "[52 rows x 59 columns]\n"
     ]
    },
    {
     "name": "stderr",
     "output_type": "stream",
     "text": [
      "C:\\Users\\cuate\\AppData\\Local\\Temp\\ipykernel_13212\\2612379898.py:9: SettingWithCopyWarning: \n",
      "A value is trying to be set on a copy of a slice from a DataFrame.\n",
      "Try using .loc[row_indexer,col_indexer] = value instead\n",
      "\n",
      "See the caveats in the documentation: https://pandas.pydata.org/pandas-docs/stable/user_guide/indexing.html#returning-a-view-versus-a-copy\n",
      "  data['Air_Date'] = pd.to_datetime(data['Air_Date'])\n"
     ]
    }
   ],
   "source": [
    "def category_value(data,keyword):\n",
    "    #replace $ sign with empty and comma with space\n",
    "    data[\"Value_float\"] = data.Value.str.replace('$','').str.replace(',','')\n",
    "    #convert new column to float, errors to convert non numeric to NaN and replacing NaN with 0 with fillna\n",
    "    data['Value_float'] = pd.to_numeric(data['Value_float'], errors='coerce').fillna(0).astype(float)\n",
    "    #filter answers by keyword \n",
    "    data = data[data.apply(lambda row: all(word.lower() in str(row['Answer']).lower() for word in keyword), axis=1)]\n",
    "    # filter data by date\n",
    "    data['Air_Date'] = pd.to_datetime(data['Air_Date'])\n",
    "    data = data[data[\"Air_Date\"] > pd.to_datetime('2010-12-31')]\n",
    "    #group data by category\n",
    "    group_by_category = data.groupby([\"Category\", \"Air_Date\"])['Value_float'].mean().sort_values(ascending = False).reset_index()\n",
    "    return group_by_category\n",
    "grouped_by_category = category_value(jeopardy_csv_dict, \"Japan\")\n",
    "\n",
    "pivoted_grouped = grouped_by_category.pivot(columns= \"Category\", index = \"Air_Date\", values = \"Value_float\" )\n",
    "print(pivoted_grouped)"
   ]
  },
  {
   "cell_type": "markdown",
   "metadata": {},
   "source": [
    "## Solution"
   ]
  },
  {
   "cell_type": "markdown",
   "metadata": {},
   "source": [
    "7. Compare your program to our <a href=\"https://content.codecademy.com/PRO/independent-practice-projects/jeopardy/jeopardy_solution.zip\">sample solution code</a> - remember, that your program might look different from ours (and probably will) and that's okay!"
   ]
  },
  {
   "cell_type": "markdown",
   "metadata": {},
   "source": [
    "8. Great work! Visit <a href=\"https://discuss.codecademy.com/t/this-is-jeopardy-challenge-project-python-pandas/462365\">our forums</a> to compare your project to our sample solution code. You can also learn how to host your own solution on GitHub so you can share it with other learners! Your solution might look different from ours, and that's okay! There are multiple ways to solve these projects, and you'll learn more by seeing others' code."
   ]
  },
  {
   "cell_type": "code",
   "execution_count": null,
   "metadata": {},
   "outputs": [],
   "source": []
  }
 ],
 "metadata": {
  "kernelspec": {
   "display_name": "Python 3 (ipykernel)",
   "language": "python",
   "name": "python3"
  },
  "language_info": {
   "codemirror_mode": {
    "name": "ipython",
    "version": 3
   },
   "file_extension": ".py",
   "mimetype": "text/x-python",
   "name": "python",
   "nbconvert_exporter": "python",
   "pygments_lexer": "ipython3",
   "version": "3.11.6"
  }
 },
 "nbformat": 4,
 "nbformat_minor": 2
}
