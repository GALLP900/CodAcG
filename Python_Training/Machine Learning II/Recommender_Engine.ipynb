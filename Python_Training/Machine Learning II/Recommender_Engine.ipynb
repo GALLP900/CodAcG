{
 "cells": [
  {
   "cell_type": "code",
   "execution_count": 1,
   "metadata": {},
   "outputs": [
    {
     "name": "stdout",
     "output_type": "stream",
     "text": [
      "Computing the msd similarity matrix...\n",
      "Done computing similarity matrix.\n",
      "RMSE: 0.9802\n"
     ]
    },
    {
     "data": {
      "text/plain": [
       "0.980150596704479"
      ]
     },
     "execution_count": 1,
     "metadata": {},
     "output_type": "execute_result"
    }
   ],
   "source": [
    "import surprise\n",
    "\n",
    "from surprise import Dataset\n",
    "\n",
    "movie_data = Dataset.load_builtin('ml-100k')\n",
    "\n",
    "from surprise.model_selection import train_test_split\n",
    "trainset, testset = train_test_split(movie_data, test_size=.2, random_state=42)\n",
    "\n",
    "trainset.ur[590]\n",
    "\n",
    "from surprise import KNNBasic\n",
    "\n",
    "movie_recommender = KNNBasic()\n",
    "movie_recommender.fit(trainset)\n",
    "\n",
    "predictions = movie_recommender.test(testset)\n",
    "\n",
    "predictions[0]\n",
    "\n",
    "from surprise import accuracy\n",
    "accuracy.rmse(predictions)\n"
   ]
  },
  {
   "cell_type": "code",
   "execution_count": 2,
   "metadata": {},
   "outputs": [
    {
     "name": "stdout",
     "output_type": "stream",
     "text": [
      "RMSE: 0.9386\n"
     ]
    },
    {
     "data": {
      "text/plain": [
       "0.938617582754134"
      ]
     },
     "execution_count": 2,
     "metadata": {},
     "output_type": "execute_result"
    }
   ],
   "source": [
    "from surprise import SVD\n",
    "from surprise import accuracy\n",
    "\n",
    "svd_recommender = SVD()\n",
    "svd_recommender.fit(trainset)\n",
    "\n",
    "svd_predictions = svd_recommender.test(testset)\n",
    "\n",
    "accuracy.rmse(svd_predictions)\n"
   ]
  }
 ],
 "metadata": {
  "kernelspec": {
   "display_name": "Python 3",
   "language": "python",
   "name": "python3"
  },
  "language_info": {
   "codemirror_mode": {
    "name": "ipython",
    "version": 3
   },
   "file_extension": ".py",
   "mimetype": "text/x-python",
   "name": "python",
   "nbconvert_exporter": "python",
   "pygments_lexer": "ipython3",
   "version": "3.11.9"
  }
 },
 "nbformat": 4,
 "nbformat_minor": 2
}
