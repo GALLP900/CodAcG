{
 "cells": [
  {
   "cell_type": "code",
   "execution_count": 65,
   "metadata": {},
   "outputs": [
    {
     "data": {
      "text/html": [
       "<div>\n",
       "<style scoped>\n",
       "    .dataframe tbody tr th:only-of-type {\n",
       "        vertical-align: middle;\n",
       "    }\n",
       "\n",
       "    .dataframe tbody tr th {\n",
       "        vertical-align: top;\n",
       "    }\n",
       "\n",
       "    .dataframe thead th {\n",
       "        text-align: right;\n",
       "    }\n",
       "</style>\n",
       "<table border=\"1\" class=\"dataframe\">\n",
       "  <thead>\n",
       "    <tr style=\"text-align: right;\">\n",
       "      <th></th>\n",
       "      <th>is_rescue</th>\n",
       "      <th>weight</th>\n",
       "      <th>tail_length</th>\n",
       "      <th>age</th>\n",
       "      <th>color</th>\n",
       "      <th>likes_children</th>\n",
       "      <th>is_hypoallergenic</th>\n",
       "      <th>name</th>\n",
       "      <th>breed</th>\n",
       "    </tr>\n",
       "  </thead>\n",
       "  <tbody>\n",
       "    <tr>\n",
       "      <th>0</th>\n",
       "      <td>0</td>\n",
       "      <td>6</td>\n",
       "      <td>2.25</td>\n",
       "      <td>2</td>\n",
       "      <td>black</td>\n",
       "      <td>1</td>\n",
       "      <td>0</td>\n",
       "      <td>Huey</td>\n",
       "      <td>chihuahua</td>\n",
       "    </tr>\n",
       "    <tr>\n",
       "      <th>1</th>\n",
       "      <td>0</td>\n",
       "      <td>4</td>\n",
       "      <td>5.36</td>\n",
       "      <td>4</td>\n",
       "      <td>black</td>\n",
       "      <td>0</td>\n",
       "      <td>0</td>\n",
       "      <td>Cherish</td>\n",
       "      <td>chihuahua</td>\n",
       "    </tr>\n",
       "    <tr>\n",
       "      <th>2</th>\n",
       "      <td>0</td>\n",
       "      <td>7</td>\n",
       "      <td>3.63</td>\n",
       "      <td>3</td>\n",
       "      <td>black</td>\n",
       "      <td>0</td>\n",
       "      <td>1</td>\n",
       "      <td>Becka</td>\n",
       "      <td>chihuahua</td>\n",
       "    </tr>\n",
       "    <tr>\n",
       "      <th>3</th>\n",
       "      <td>0</td>\n",
       "      <td>5</td>\n",
       "      <td>0.19</td>\n",
       "      <td>2</td>\n",
       "      <td>black</td>\n",
       "      <td>0</td>\n",
       "      <td>0</td>\n",
       "      <td>Addie</td>\n",
       "      <td>chihuahua</td>\n",
       "    </tr>\n",
       "    <tr>\n",
       "      <th>4</th>\n",
       "      <td>0</td>\n",
       "      <td>5</td>\n",
       "      <td>0.37</td>\n",
       "      <td>1</td>\n",
       "      <td>black</td>\n",
       "      <td>1</td>\n",
       "      <td>1</td>\n",
       "      <td>Beverlee</td>\n",
       "      <td>chihuahua</td>\n",
       "    </tr>\n",
       "  </tbody>\n",
       "</table>\n",
       "</div>"
      ],
      "text/plain": [
       "   is_rescue  weight  tail_length  age  color  likes_children  \\\n",
       "0          0       6         2.25    2  black               1   \n",
       "1          0       4         5.36    4  black               0   \n",
       "2          0       7         3.63    3  black               0   \n",
       "3          0       5         0.19    2  black               0   \n",
       "4          0       5         0.37    1  black               1   \n",
       "\n",
       "   is_hypoallergenic      name      breed  \n",
       "0                  0      Huey  chihuahua  \n",
       "1                  0   Cherish  chihuahua  \n",
       "2                  1     Becka  chihuahua  \n",
       "3                  0     Addie  chihuahua  \n",
       "4                  1  Beverlee  chihuahua  "
      ]
     },
     "metadata": {},
     "output_type": "display_data"
    },
    {
     "name": "stdout",
     "output_type": "stream",
     "text": [
      "<class 'pandas.core.frame.DataFrame'>\n",
      "RangeIndex: 800 entries, 0 to 799\n",
      "Data columns (total 9 columns):\n",
      " #   Column             Non-Null Count  Dtype  \n",
      "---  ------             --------------  -----  \n",
      " 0   is_rescue          800 non-null    int64  \n",
      " 1   weight             800 non-null    int64  \n",
      " 2   tail_length        800 non-null    float64\n",
      " 3   age                800 non-null    int64  \n",
      " 4   color              800 non-null    object \n",
      " 5   likes_children     800 non-null    int64  \n",
      " 6   is_hypoallergenic  800 non-null    int64  \n",
      " 7   name               800 non-null    object \n",
      " 8   breed              800 non-null    object \n",
      "dtypes: float64(1), int64(5), object(3)\n",
      "memory usage: 56.4+ KB\n"
     ]
    },
    {
     "data": {
      "text/plain": [
       "None"
      ]
     },
     "metadata": {},
     "output_type": "display_data"
    },
    {
     "data": {
      "text/html": [
       "<div>\n",
       "<style scoped>\n",
       "    .dataframe tbody tr th:only-of-type {\n",
       "        vertical-align: middle;\n",
       "    }\n",
       "\n",
       "    .dataframe tbody tr th {\n",
       "        vertical-align: top;\n",
       "    }\n",
       "\n",
       "    .dataframe thead th {\n",
       "        text-align: right;\n",
       "    }\n",
       "</style>\n",
       "<table border=\"1\" class=\"dataframe\">\n",
       "  <thead>\n",
       "    <tr style=\"text-align: right;\">\n",
       "      <th></th>\n",
       "      <th>is_rescue</th>\n",
       "      <th>weight</th>\n",
       "      <th>tail_length</th>\n",
       "      <th>age</th>\n",
       "      <th>color</th>\n",
       "      <th>likes_children</th>\n",
       "      <th>is_hypoallergenic</th>\n",
       "      <th>name</th>\n",
       "      <th>breed</th>\n",
       "    </tr>\n",
       "  </thead>\n",
       "  <tbody>\n",
       "    <tr>\n",
       "      <th>count</th>\n",
       "      <td>800.000000</td>\n",
       "      <td>800.000000</td>\n",
       "      <td>800.000000</td>\n",
       "      <td>800.000000</td>\n",
       "      <td>800</td>\n",
       "      <td>800.000000</td>\n",
       "      <td>800.000000</td>\n",
       "      <td>800</td>\n",
       "      <td>800</td>\n",
       "    </tr>\n",
       "    <tr>\n",
       "      <th>unique</th>\n",
       "      <td>NaN</td>\n",
       "      <td>NaN</td>\n",
       "      <td>NaN</td>\n",
       "      <td>NaN</td>\n",
       "      <td>5</td>\n",
       "      <td>NaN</td>\n",
       "      <td>NaN</td>\n",
       "      <td>767</td>\n",
       "      <td>8</td>\n",
       "    </tr>\n",
       "    <tr>\n",
       "      <th>top</th>\n",
       "      <td>NaN</td>\n",
       "      <td>NaN</td>\n",
       "      <td>NaN</td>\n",
       "      <td>NaN</td>\n",
       "      <td>grey</td>\n",
       "      <td>NaN</td>\n",
       "      <td>NaN</td>\n",
       "      <td>Bethany</td>\n",
       "      <td>chihuahua</td>\n",
       "    </tr>\n",
       "    <tr>\n",
       "      <th>freq</th>\n",
       "      <td>NaN</td>\n",
       "      <td>NaN</td>\n",
       "      <td>NaN</td>\n",
       "      <td>NaN</td>\n",
       "      <td>370</td>\n",
       "      <td>NaN</td>\n",
       "      <td>NaN</td>\n",
       "      <td>3</td>\n",
       "      <td>100</td>\n",
       "    </tr>\n",
       "    <tr>\n",
       "      <th>mean</th>\n",
       "      <td>0.091250</td>\n",
       "      <td>40.340000</td>\n",
       "      <td>7.658625</td>\n",
       "      <td>4.097500</td>\n",
       "      <td>NaN</td>\n",
       "      <td>0.410000</td>\n",
       "      <td>0.376250</td>\n",
       "      <td>NaN</td>\n",
       "      <td>NaN</td>\n",
       "    </tr>\n",
       "    <tr>\n",
       "      <th>std</th>\n",
       "      <td>0.288144</td>\n",
       "      <td>23.739289</td>\n",
       "      <td>5.878545</td>\n",
       "      <td>2.585798</td>\n",
       "      <td>NaN</td>\n",
       "      <td>0.492141</td>\n",
       "      <td>0.484747</td>\n",
       "      <td>NaN</td>\n",
       "      <td>NaN</td>\n",
       "    </tr>\n",
       "    <tr>\n",
       "      <th>min</th>\n",
       "      <td>0.000000</td>\n",
       "      <td>1.000000</td>\n",
       "      <td>0.190000</td>\n",
       "      <td>1.000000</td>\n",
       "      <td>NaN</td>\n",
       "      <td>0.000000</td>\n",
       "      <td>0.000000</td>\n",
       "      <td>NaN</td>\n",
       "      <td>NaN</td>\n",
       "    </tr>\n",
       "    <tr>\n",
       "      <th>25%</th>\n",
       "      <td>0.000000</td>\n",
       "      <td>16.000000</td>\n",
       "      <td>2.957500</td>\n",
       "      <td>2.000000</td>\n",
       "      <td>NaN</td>\n",
       "      <td>0.000000</td>\n",
       "      <td>0.000000</td>\n",
       "      <td>NaN</td>\n",
       "      <td>NaN</td>\n",
       "    </tr>\n",
       "    <tr>\n",
       "      <th>50%</th>\n",
       "      <td>0.000000</td>\n",
       "      <td>44.000000</td>\n",
       "      <td>5.940000</td>\n",
       "      <td>4.000000</td>\n",
       "      <td>NaN</td>\n",
       "      <td>0.000000</td>\n",
       "      <td>0.000000</td>\n",
       "      <td>NaN</td>\n",
       "      <td>NaN</td>\n",
       "    </tr>\n",
       "    <tr>\n",
       "      <th>75%</th>\n",
       "      <td>0.000000</td>\n",
       "      <td>59.000000</td>\n",
       "      <td>10.810000</td>\n",
       "      <td>5.000000</td>\n",
       "      <td>NaN</td>\n",
       "      <td>1.000000</td>\n",
       "      <td>1.000000</td>\n",
       "      <td>NaN</td>\n",
       "      <td>NaN</td>\n",
       "    </tr>\n",
       "    <tr>\n",
       "      <th>max</th>\n",
       "      <td>1.000000</td>\n",
       "      <td>100.000000</td>\n",
       "      <td>29.540000</td>\n",
       "      <td>14.000000</td>\n",
       "      <td>NaN</td>\n",
       "      <td>1.000000</td>\n",
       "      <td>1.000000</td>\n",
       "      <td>NaN</td>\n",
       "      <td>NaN</td>\n",
       "    </tr>\n",
       "  </tbody>\n",
       "</table>\n",
       "</div>"
      ],
      "text/plain": [
       "         is_rescue      weight  tail_length         age color  likes_children  \\\n",
       "count   800.000000  800.000000   800.000000  800.000000   800      800.000000   \n",
       "unique         NaN         NaN          NaN         NaN     5             NaN   \n",
       "top            NaN         NaN          NaN         NaN  grey             NaN   \n",
       "freq           NaN         NaN          NaN         NaN   370             NaN   \n",
       "mean      0.091250   40.340000     7.658625    4.097500   NaN        0.410000   \n",
       "std       0.288144   23.739289     5.878545    2.585798   NaN        0.492141   \n",
       "min       0.000000    1.000000     0.190000    1.000000   NaN        0.000000   \n",
       "25%       0.000000   16.000000     2.957500    2.000000   NaN        0.000000   \n",
       "50%       0.000000   44.000000     5.940000    4.000000   NaN        0.000000   \n",
       "75%       0.000000   59.000000    10.810000    5.000000   NaN        1.000000   \n",
       "max       1.000000  100.000000    29.540000   14.000000   NaN        1.000000   \n",
       "\n",
       "        is_hypoallergenic     name      breed  \n",
       "count          800.000000      800        800  \n",
       "unique                NaN      767          8  \n",
       "top                   NaN  Bethany  chihuahua  \n",
       "freq                  NaN        3        100  \n",
       "mean             0.376250      NaN        NaN  \n",
       "std              0.484747      NaN        NaN  \n",
       "min              0.000000      NaN        NaN  \n",
       "25%              0.000000      NaN        NaN  \n",
       "50%              0.000000      NaN        NaN  \n",
       "75%              1.000000      NaN        NaN  \n",
       "max              1.000000      NaN        NaN  "
      ]
     },
     "metadata": {},
     "output_type": "display_data"
    }
   ],
   "source": [
    "# Import libraries\n",
    "import numpy as np\n",
    "import pandas as pd\n",
    "import matplotlib.pyplot as plt\n",
    "import seaborn as sns\n",
    "\n",
    "# One sample t-test\n",
    "from scipy.stats import ttest_1samp\n",
    "# Two sample t-test\n",
    "from scipy.stats import ttest_ind\n",
    "# ANOVA\n",
    "from scipy.stats import f_oneway\n",
    "# Tukey's range test\n",
    "from statsmodels.stats.multicomp import pairwise_tukeyhsd\n",
    "# Chi-squared test\n",
    "from scipy.stats import chi2_contingency\n",
    "# Binomial test\n",
    "from scipy.stats import binomtest\n",
    "\n",
    "# Import data\n",
    "dogs = pd.read_csv('dog_data.csv')\n",
    "\n",
    "# Subset to just whippets, terriers, and pitbulls\n",
    "dogs_wtp = dogs[dogs.breed.isin(['whippet', 'terrier', 'pitbull'])]\n",
    "\n",
    "# Subset to just poodles and shihtzus\n",
    "dogs_ps = dogs[dogs.breed.isin(['poodle', 'shihtzu'])]\n",
    "\n",
    "# Inspect the first few rows of the data\n",
    "display(dogs.head())\n",
    "display(dogs.info())\n",
    "display(dogs.describe(include='all'))"
   ]
  },
  {
   "cell_type": "code",
   "execution_count": 66,
   "metadata": {},
   "outputs": [
    {
     "name": "stdout",
     "output_type": "stream",
     "text": [
      "The percentage of rescued pets is 6.0%\n",
      "The number of whippets in the dataset is 100\n"
     ]
    }
   ],
   "source": [
    "#extract the is_rescue column from the dataset\n",
    "whippet_rescue = dogs.is_rescue[dogs.breed == 'whippet']\n",
    "#count the number of rescued dogs in the dataset\n",
    "num_whippet_rescue = sum(whippet_rescue == 1)\n",
    "num_whipets = len(whippet_rescue)\n",
    "#calculate the percentage of rescued dogs\n",
    "percentage_rescued = (num_whippet_rescue/num_whipets)*100\n",
    "print(f'The percentage of rescued pets is {percentage_rescued}%')\n",
    "print(f'The number of whippets in the dataset is {num_whipets}')"
   ]
  },
  {
   "cell_type": "markdown",
   "metadata": {},
   "source": [
    "### Binomal Test\n",
    "- **Null**: 8% of whippets are rescues\n",
    "- **Alternative:** More or less than 8% of whippets are rescues"
   ]
  },
  {
   "cell_type": "code",
   "execution_count": 67,
   "metadata": {},
   "outputs": [
    {
     "name": "stdout",
     "output_type": "stream",
     "text": [
      "BinomTestResult(k=6, n=100, alternative='two-sided', statistic=0.06, pvalue=0.5811780106238109)\n",
      "The result of the pvalue is 0.5811780106238109\n",
      "The result is not significant\n"
     ]
    }
   ],
   "source": [
    "# Test the hypothesis that whippets are 8% rescues\n",
    "# num_whippet_rescue is the number of whippets that are rescued or the number of \"successes\"\n",
    "# num_whipets is the total number of whippets or the number of \"trials\"\n",
    "# 0.08 is the hypothesized probability of success\n",
    "result = binomtest(num_whippet_rescue, num_whipets, 0.08, alternative='two-sided')\n",
    "print(result)\n",
    "print(f'The result of the pvalue is {result.pvalue}')\n",
    "print('The result is not significant' if result.pvalue > 0.05 else 'The results is significant')\n"
   ]
  },
  {
   "cell_type": "code",
   "execution_count": 68,
   "metadata": {},
   "outputs": [],
   "source": [
    "# save the weights of dogs_wtp\n",
    "wt_whippets = dogs_wtp.weight[dogs_wtp.breed == 'whippet']\n",
    "wt_terriers = dogs_wtp.weight[dogs_wtp.breed == 'terrier']\n",
    "wt_pitbuls = dogs_wtp.weight[dogs_wtp.breed == 'pitbull']"
   ]
  },
  {
   "cell_type": "markdown",
   "metadata": {},
   "source": [
    "### Anova Test & Tukey's Range Test\n",
    "- **Null:** whippets, terriers, and pitbulls all weigh the same amount on average\n",
    "- **Alternative:** whippets, terriers, and pitbulls do not all weigh the same amount on average (at least one pair of breeds has differing average weights)"
   ]
  },
  {
   "cell_type": "code",
   "execution_count": 69,
   "metadata": {},
   "outputs": [
    {
     "name": "stdout",
     "output_type": "stream",
     "text": [
      "The result of the pvalue is 3.276415588274726e-17\n",
      "The results is significant\n"
     ]
    },
    {
     "data": {
      "text/html": [
       "<table class=\"simpletable\">\n",
       "<caption>Multiple Comparison of Means - Tukey HSD, FWER=0.05</caption>\n",
       "<tr>\n",
       "  <th>group1</th>  <th>group2</th>  <th>meandiff</th>  <th>p-adj</th>   <th>lower</th>   <th>upper</th>  <th>reject</th>\n",
       "</tr>\n",
       "<tr>\n",
       "  <td>pitbull</td> <td>terrier</td>  <td>-13.24</td>    <td>0.0</td>  <td>-16.7278</td> <td>-9.7522</td>  <td>True</td> \n",
       "</tr>\n",
       "<tr>\n",
       "  <td>pitbull</td> <td>whippet</td>   <td>-3.34</td>  <td>0.0638</td>  <td>-6.8278</td> <td>0.1478</td>   <td>False</td>\n",
       "</tr>\n",
       "<tr>\n",
       "  <td>terrier</td> <td>whippet</td>    <td>9.9</td>     <td>0.0</td>   <td>6.4122</td>  <td>13.3878</td>  <td>True</td> \n",
       "</tr>\n",
       "</table>"
      ],
      "text/latex": [
       "\\begin{center}\n",
       "\\begin{tabular}{ccccccc}\n",
       "\\toprule\n",
       "\\textbf{group1} & \\textbf{group2} & \\textbf{meandiff} & \\textbf{p-adj} & \\textbf{lower} & \\textbf{upper} & \\textbf{reject}  \\\\\n",
       "\\midrule\n",
       "    pitbull     &     terrier     &       -13.24      &      0.0       &    -16.7278    &    -9.7522     &       True       \\\\\n",
       "    pitbull     &     whippet     &       -3.34       &     0.0638     &    -6.8278     &     0.1478     &      False       \\\\\n",
       "    terrier     &     whippet     &        9.9        &      0.0       &     6.4122     &    13.3878     &       True       \\\\\n",
       "\\bottomrule\n",
       "\\end{tabular}\n",
       "%\\caption{Multiple Comparison of Means - Tukey HSD, FWER=0.05}\n",
       "\\end{center}"
      ],
      "text/plain": [
       "<class 'statsmodels.iolib.table.SimpleTable'>"
      ]
     },
     "metadata": {},
     "output_type": "display_data"
    }
   ],
   "source": [
    "# Test the hypothesis that the average weight of whippets is the same as the average weight of terriers\n",
    "tstat, pval = f_oneway(wt_whippets, wt_terriers, wt_pitbuls)\n",
    "print(f'The result of the pvalue is {pval}')\n",
    "print('The result is not significant' if pval > 0.05 else 'The results is significant')\n",
    "#  tukeys test to compare the average weight of each breed\n",
    "tukey_test = pairwise_tukeyhsd(dogs_wtp.weight, dogs_wtp.breed, 0.05)\n",
    "display(tukey_test.summary())"
   ]
  },
  {
   "cell_type": "markdown",
   "metadata": {},
   "source": [
    "- Pitbulls and Terriers have a sig diff in weight\n",
    "- Terriers and Whippets have a sig diff in weight "
   ]
  },
  {
   "cell_type": "code",
   "execution_count": 70,
   "metadata": {},
   "outputs": [
    {
     "data": {
      "text/html": [
       "<div>\n",
       "<style scoped>\n",
       "    .dataframe tbody tr th:only-of-type {\n",
       "        vertical-align: middle;\n",
       "    }\n",
       "\n",
       "    .dataframe tbody tr th {\n",
       "        vertical-align: top;\n",
       "    }\n",
       "\n",
       "    .dataframe thead th {\n",
       "        text-align: right;\n",
       "    }\n",
       "</style>\n",
       "<table border=\"1\" class=\"dataframe\">\n",
       "  <thead>\n",
       "    <tr style=\"text-align: right;\">\n",
       "      <th>color</th>\n",
       "      <th>black</th>\n",
       "      <th>brown</th>\n",
       "      <th>gold</th>\n",
       "      <th>grey</th>\n",
       "      <th>white</th>\n",
       "    </tr>\n",
       "    <tr>\n",
       "      <th>breed</th>\n",
       "      <th></th>\n",
       "      <th></th>\n",
       "      <th></th>\n",
       "      <th></th>\n",
       "      <th></th>\n",
       "    </tr>\n",
       "  </thead>\n",
       "  <tbody>\n",
       "    <tr>\n",
       "      <th>poodle</th>\n",
       "      <td>17</td>\n",
       "      <td>13</td>\n",
       "      <td>8</td>\n",
       "      <td>52</td>\n",
       "      <td>10</td>\n",
       "    </tr>\n",
       "    <tr>\n",
       "      <th>shihtzu</th>\n",
       "      <td>10</td>\n",
       "      <td>36</td>\n",
       "      <td>6</td>\n",
       "      <td>41</td>\n",
       "      <td>7</td>\n",
       "    </tr>\n",
       "  </tbody>\n",
       "</table>\n",
       "</div>"
      ],
      "text/plain": [
       "color    black  brown  gold  grey  white\n",
       "breed                                   \n",
       "poodle      17     13     8    52     10\n",
       "shihtzu     10     36     6    41      7"
      ]
     },
     "metadata": {},
     "output_type": "display_data"
    }
   ],
   "source": [
    "# Create a contingeny table for colors and breeds\n",
    "Xtab = pd.crosstab(dogs_ps.breed, dogs_ps.color)\n",
    "display(Xtab)"
   ]
  },
  {
   "cell_type": "markdown",
   "metadata": {},
   "source": [
    "### Chi square Test\n",
    "- **Null:** There is an association between breed (poodle vs. shihtzu) and color.\n",
    "- **Alternative:** There is not an association between breed (poodle vs. shihtzu) and color."
   ]
  },
  {
   "cell_type": "code",
   "execution_count": 71,
   "metadata": {},
   "outputs": [
    {
     "name": "stdout",
     "output_type": "stream",
     "text": [
      "0.005302408293244597\n",
      "The result of the pvalue is 0.005302408293244597\n",
      "The results is significant\n"
     ]
    }
   ],
   "source": [
    "# Test if there is an association between breed and color\n",
    "# chi2 is the test statistic\n",
    "# pval is the p-value\n",
    "# dof is the degrees of freedom\n",
    "# expected is the expected frequencies\n",
    "chi2, pval, dof, expected = chi2_contingency(Xtab)\n",
    "print(pval)\n",
    "print(f'The result of the pvalue is {pval}')\n",
    "print('The result is not significant' if pval > 0.05 else 'The results is significant')"
   ]
  },
  {
   "cell_type": "code",
   "execution_count": 84,
   "metadata": {},
   "outputs": [
    {
     "name": "stdout",
     "output_type": "stream",
     "text": [
      "The average tail length of chihuahua is 3.07\n",
      "The average tail length of greyhound is 18.0\n",
      "The average tail length of pitbull is 9.26\n",
      "The average tail length of poodle is 9.09\n",
      "The average tail length of rottweiler is 4.24\n",
      "The average tail length of shihtzu is 2.13\n",
      "The average tail length of terrier is 3.6\n",
      "The average tail length of whippet is 11.87\n"
     ]
    }
   ],
   "source": [
    "# data for rottweilers & greyhounds\n",
    "for items in dogs.breed.unique():\n",
    "    dogs_df = dogs[dogs.breed.isin([items])]\n",
    "    avg_tail = round(dogs_df.tail_length.mean(),2)\n",
    "    print(f'The average tail length of {items} is {avg_tail}')\n",
    "\n",
    "# data for rottweilers & greyhounds\n",
    "tail_pitbull = dogs.tail_length[dogs.breed == 'pitbull']\n",
    "tail_poodle = dogs.tail_length[dogs.breed == 'poodle']\n",
    "tail_greyhound = dogs.tail_length[dogs.breed == 'greyhound']\n",
    "tail_rottweiler = dogs.tail_length[dogs.breed == 'rottweiler']\n",
    "tail_terrier = dogs.tail_length[dogs.breed == 'terrier']\n",
    "tail_whippet = dogs.tail_length[dogs.breed == 'whippet']\n",
    "tail_chihuahua = dogs.tail_length[dogs.breed == 'chihuahua']\n",
    "tail_shihtzu = dogs.tail_length[dogs.breed == 'shihtzu']\n",
    "\n",
    "avg_tail_pitbull = dogs[dogs.breed == 'pitbull'].tail_length.mean()\n",
    "avg_tail_poodle = dogs[dogs.breed == 'poodle'].tail_length.mean()"
   ]
  },
  {
   "cell_type": "markdown",
   "metadata": {},
   "source": [
    "### Two sample t-test\n",
    "- **Null:** The average tail size of rotwweilers and greyhound are the same \n",
    "- **Alternative:** The average tail lengths are not the same  "
   ]
  },
  {
   "cell_type": "code",
   "execution_count": 81,
   "metadata": {},
   "outputs": [
    {
     "name": "stdout",
     "output_type": "stream",
     "text": [
      "The result of the pvalue is 0.6746883921277032\n",
      "The result is not significant\n"
     ]
    }
   ],
   "source": [
    "# Test the hypothesis that the average tail length of pitbulls is the same as the average tail length of poodles\n",
    "tstat, pval = ttest_ind(tail_pitbull, tail_poodle)\n",
    "print(f'The result of the pvalue is {pval}')\n",
    "print('The result is not significant' if pval > 0.05 else 'The results is significant')"
   ]
  },
  {
   "cell_type": "markdown",
   "metadata": {},
   "source": [
    "### Anova Test & Tukey's Range Test\n",
    "- **Null:** All dogs have the same tail length in average\n",
    "- **Alternative:** Dogs have different tail lengths in average"
   ]
  },
  {
   "cell_type": "code",
   "execution_count": 86,
   "metadata": {},
   "outputs": [
    {
     "name": "stdout",
     "output_type": "stream",
     "text": [
      "The result of the pvalue is 1.1035455062717072e-238\n",
      "The results is significant\n"
     ]
    },
    {
     "data": {
      "text/html": [
       "<table class=\"simpletable\">\n",
       "<caption>Multiple Comparison of Means - Tukey HSD, FWER=0.05</caption>\n",
       "<tr>\n",
       "    <th>group1</th>     <th>group2</th>   <th>meandiff</th>  <th>p-adj</th>   <th>lower</th>    <th>upper</th>  <th>reject</th>\n",
       "</tr>\n",
       "<tr>\n",
       "   <td>chihuahua</td>  <td>greyhound</td>  <td>14.9272</td>   <td>0.0</td>   <td>13.6775</td>  <td>16.1769</td>  <td>True</td> \n",
       "</tr>\n",
       "<tr>\n",
       "   <td>chihuahua</td>   <td>pitbull</td>   <td>6.1862</td>    <td>0.0</td>   <td>4.9365</td>   <td>7.4359</td>   <td>True</td> \n",
       "</tr>\n",
       "<tr>\n",
       "   <td>chihuahua</td>   <td>poodle</td>    <td>6.0203</td>    <td>0.0</td>   <td>4.7706</td>    <td>7.27</td>    <td>True</td> \n",
       "</tr>\n",
       "<tr>\n",
       "   <td>chihuahua</td> <td>rottweiler</td>  <td>1.1623</td>   <td>0.09</td>   <td>-0.0874</td>   <td>2.412</td>   <td>False</td>\n",
       "</tr>\n",
       "<tr>\n",
       "   <td>chihuahua</td>   <td>shihtzu</td>   <td>-0.9481</td> <td>0.2917</td>  <td>-2.1978</td>  <td>0.3016</td>   <td>False</td>\n",
       "</tr>\n",
       "<tr>\n",
       "   <td>chihuahua</td>   <td>terrier</td>   <td>0.5303</td>  <td>0.9027</td>  <td>-0.7194</td>   <td>1.78</td>    <td>False</td>\n",
       "</tr>\n",
       "<tr>\n",
       "   <td>chihuahua</td>   <td>whippet</td>   <td>8.8004</td>    <td>0.0</td>   <td>7.5507</td>   <td>10.0501</td>  <td>True</td> \n",
       "</tr>\n",
       "<tr>\n",
       "   <td>greyhound</td>   <td>pitbull</td>   <td>-8.741</td>    <td>0.0</td>   <td>-9.9907</td>  <td>-7.4913</td>  <td>True</td> \n",
       "</tr>\n",
       "<tr>\n",
       "   <td>greyhound</td>   <td>poodle</td>    <td>-8.9069</td>   <td>0.0</td>  <td>-10.1566</td>  <td>-7.6572</td>  <td>True</td> \n",
       "</tr>\n",
       "<tr>\n",
       "   <td>greyhound</td> <td>rottweiler</td> <td>-13.7649</td>   <td>0.0</td>  <td>-15.0146</td> <td>-12.5152</td>  <td>True</td> \n",
       "</tr>\n",
       "<tr>\n",
       "   <td>greyhound</td>   <td>shihtzu</td>  <td>-15.8753</td>   <td>0.0</td>   <td>-17.125</td> <td>-14.6256</td>  <td>True</td> \n",
       "</tr>\n",
       "<tr>\n",
       "   <td>greyhound</td>   <td>terrier</td>  <td>-14.3969</td>   <td>0.0</td>  <td>-15.6466</td> <td>-13.1472</td>  <td>True</td> \n",
       "</tr>\n",
       "<tr>\n",
       "   <td>greyhound</td>   <td>whippet</td>   <td>-6.1268</td>   <td>0.0</td>   <td>-7.3765</td>  <td>-4.8771</td>  <td>True</td> \n",
       "</tr>\n",
       "<tr>\n",
       "    <td>pitbull</td>    <td>poodle</td>    <td>-0.1659</td> <td>0.9999</td>  <td>-1.4156</td>  <td>1.0838</td>   <td>False</td>\n",
       "</tr>\n",
       "<tr>\n",
       "    <td>pitbull</td>  <td>rottweiler</td>  <td>-5.0239</td>   <td>0.0</td>   <td>-6.2736</td>  <td>-3.7742</td>  <td>True</td> \n",
       "</tr>\n",
       "<tr>\n",
       "    <td>pitbull</td>    <td>shihtzu</td>   <td>-7.1343</td>   <td>0.0</td>   <td>-8.384</td>   <td>-5.8846</td>  <td>True</td> \n",
       "</tr>\n",
       "<tr>\n",
       "    <td>pitbull</td>    <td>terrier</td>   <td>-5.6559</td>   <td>0.0</td>   <td>-6.9056</td>  <td>-4.4062</td>  <td>True</td> \n",
       "</tr>\n",
       "<tr>\n",
       "    <td>pitbull</td>    <td>whippet</td>   <td>2.6142</td>    <td>0.0</td>   <td>1.3645</td>   <td>3.8639</td>   <td>True</td> \n",
       "</tr>\n",
       "<tr>\n",
       "    <td>poodle</td>   <td>rottweiler</td>  <td>-4.858</td>    <td>0.0</td>   <td>-6.1077</td>  <td>-3.6083</td>  <td>True</td> \n",
       "</tr>\n",
       "<tr>\n",
       "    <td>poodle</td>     <td>shihtzu</td>   <td>-6.9684</td>   <td>0.0</td>   <td>-8.2181</td>  <td>-5.7187</td>  <td>True</td> \n",
       "</tr>\n",
       "<tr>\n",
       "    <td>poodle</td>     <td>terrier</td>    <td>-5.49</td>    <td>0.0</td>   <td>-6.7397</td>  <td>-4.2403</td>  <td>True</td> \n",
       "</tr>\n",
       "<tr>\n",
       "    <td>poodle</td>     <td>whippet</td>   <td>2.7801</td>    <td>0.0</td>   <td>1.5304</td>   <td>4.0298</td>   <td>True</td> \n",
       "</tr>\n",
       "<tr>\n",
       "  <td>rottweiler</td>   <td>shihtzu</td>   <td>-2.1104</td>   <td>0.0</td>   <td>-3.3601</td>  <td>-0.8607</td>  <td>True</td> \n",
       "</tr>\n",
       "<tr>\n",
       "  <td>rottweiler</td>   <td>terrier</td>   <td>-0.632</td>  <td>0.7872</td>  <td>-1.8817</td>  <td>0.6177</td>   <td>False</td>\n",
       "</tr>\n",
       "<tr>\n",
       "  <td>rottweiler</td>   <td>whippet</td>   <td>7.6381</td>    <td>0.0</td>   <td>6.3884</td>   <td>8.8878</td>   <td>True</td> \n",
       "</tr>\n",
       "<tr>\n",
       "    <td>shihtzu</td>    <td>terrier</td>   <td>1.4784</td>  <td>0.0082</td>  <td>0.2287</td>   <td>2.7281</td>   <td>True</td> \n",
       "</tr>\n",
       "<tr>\n",
       "    <td>shihtzu</td>    <td>whippet</td>   <td>9.7485</td>    <td>0.0</td>   <td>8.4988</td>   <td>10.9982</td>  <td>True</td> \n",
       "</tr>\n",
       "<tr>\n",
       "    <td>terrier</td>    <td>whippet</td>   <td>8.2701</td>    <td>0.0</td>   <td>7.0204</td>   <td>9.5198</td>   <td>True</td> \n",
       "</tr>\n",
       "</table>"
      ],
      "text/latex": [
       "\\begin{center}\n",
       "\\begin{tabular}{ccccccc}\n",
       "\\toprule\n",
       "\\textbf{group1} & \\textbf{group2} & \\textbf{meandiff} & \\textbf{p-adj} & \\textbf{lower} & \\textbf{upper} & \\textbf{reject}  \\\\\n",
       "\\midrule\n",
       "   chihuahua    &    greyhound    &      14.9272      &      0.0       &    13.6775     &    16.1769     &       True       \\\\\n",
       "   chihuahua    &     pitbull     &       6.1862      &      0.0       &     4.9365     &     7.4359     &       True       \\\\\n",
       "   chihuahua    &      poodle     &       6.0203      &      0.0       &     4.7706     &      7.27      &       True       \\\\\n",
       "   chihuahua    &    rottweiler   &       1.1623      &      0.09      &    -0.0874     &     2.412      &      False       \\\\\n",
       "   chihuahua    &     shihtzu     &      -0.9481      &     0.2917     &    -2.1978     &     0.3016     &      False       \\\\\n",
       "   chihuahua    &     terrier     &       0.5303      &     0.9027     &    -0.7194     &      1.78      &      False       \\\\\n",
       "   chihuahua    &     whippet     &       8.8004      &      0.0       &     7.5507     &    10.0501     &       True       \\\\\n",
       "   greyhound    &     pitbull     &       -8.741      &      0.0       &    -9.9907     &    -7.4913     &       True       \\\\\n",
       "   greyhound    &      poodle     &      -8.9069      &      0.0       &    -10.1566    &    -7.6572     &       True       \\\\\n",
       "   greyhound    &    rottweiler   &      -13.7649     &      0.0       &    -15.0146    &    -12.5152    &       True       \\\\\n",
       "   greyhound    &     shihtzu     &      -15.8753     &      0.0       &    -17.125     &    -14.6256    &       True       \\\\\n",
       "   greyhound    &     terrier     &      -14.3969     &      0.0       &    -15.6466    &    -13.1472    &       True       \\\\\n",
       "   greyhound    &     whippet     &      -6.1268      &      0.0       &    -7.3765     &    -4.8771     &       True       \\\\\n",
       "    pitbull     &      poodle     &      -0.1659      &     0.9999     &    -1.4156     &     1.0838     &      False       \\\\\n",
       "    pitbull     &    rottweiler   &      -5.0239      &      0.0       &    -6.2736     &    -3.7742     &       True       \\\\\n",
       "    pitbull     &     shihtzu     &      -7.1343      &      0.0       &     -8.384     &    -5.8846     &       True       \\\\\n",
       "    pitbull     &     terrier     &      -5.6559      &      0.0       &    -6.9056     &    -4.4062     &       True       \\\\\n",
       "    pitbull     &     whippet     &       2.6142      &      0.0       &     1.3645     &     3.8639     &       True       \\\\\n",
       "     poodle     &    rottweiler   &       -4.858      &      0.0       &    -6.1077     &    -3.6083     &       True       \\\\\n",
       "     poodle     &     shihtzu     &      -6.9684      &      0.0       &    -8.2181     &    -5.7187     &       True       \\\\\n",
       "     poodle     &     terrier     &       -5.49       &      0.0       &    -6.7397     &    -4.2403     &       True       \\\\\n",
       "     poodle     &     whippet     &       2.7801      &      0.0       &     1.5304     &     4.0298     &       True       \\\\\n",
       "   rottweiler   &     shihtzu     &      -2.1104      &      0.0       &    -3.3601     &    -0.8607     &       True       \\\\\n",
       "   rottweiler   &     terrier     &       -0.632      &     0.7872     &    -1.8817     &     0.6177     &      False       \\\\\n",
       "   rottweiler   &     whippet     &       7.6381      &      0.0       &     6.3884     &     8.8878     &       True       \\\\\n",
       "    shihtzu     &     terrier     &       1.4784      &     0.0082     &     0.2287     &     2.7281     &       True       \\\\\n",
       "    shihtzu     &     whippet     &       9.7485      &      0.0       &     8.4988     &    10.9982     &       True       \\\\\n",
       "    terrier     &     whippet     &       8.2701      &      0.0       &     7.0204     &     9.5198     &       True       \\\\\n",
       "\\bottomrule\n",
       "\\end{tabular}\n",
       "%\\caption{Multiple Comparison of Means - Tukey HSD, FWER=0.05}\n",
       "\\end{center}"
      ],
      "text/plain": [
       "<class 'statsmodels.iolib.table.SimpleTable'>"
      ]
     },
     "metadata": {},
     "output_type": "display_data"
    }
   ],
   "source": [
    "# Anova test for the average tail length of each breed\n",
    "tstat, pval = f_oneway(tail_pitbull, tail_poodle, tail_greyhound, tail_rottweiler, tail_terrier, tail_whippet, tail_chihuahua, tail_shihtzu)\n",
    "print(f'The result of the pvalue is {pval}')\n",
    "print('The result is not significant' if pval > 0.05 else 'The results is significant')\n",
    "\n",
    "# tukeys test to compare the average tail length of each breed\n",
    "tukey_test = pairwise_tukeyhsd(dogs.tail_length, dogs.breed, 0.05)\n",
    "display(tukey_test.summary())"
   ]
  },
  {
   "cell_type": "code",
   "execution_count": 98,
   "metadata": {},
   "outputs": [
    {
     "data": {
      "image/png": "[encoded data removed]",
      "text/plain": [
       "<Figure size 640x480 with 1 Axes>"
      ]
     },
     "metadata": {},
     "output_type": "display_data"
    },
    {
     "data": {
      "text/plain": [
       "<Figure size 640x480 with 0 Axes>"
      ]
     },
     "metadata": {},
     "output_type": "display_data"
    }
   ],
   "source": [
    "# plot tail length by breed\n",
    "sns.boxplot(data=dogs, x='breed', y='tail_length', hue='color', palette='husl')\n",
    "plt.xticks(rotation=35)\n",
    "plt.show()\n",
    "plt.clf()"
   ]
  },
  {
   "cell_type": "code",
   "execution_count": 103,
   "metadata": {},
   "outputs": [
    {
     "data": {
      "image/png": "[encoded data removed]",
      "text/plain": [
       "<Figure size 640x480 with 1 Axes>"
      ]
     },
     "metadata": {},
     "output_type": "display_data"
    },
    {
     "data": {
      "image/png": "[encoded data removed]",
      "text/plain": [
       "<Figure size 640x480 with 1 Axes>"
      ]
     },
     "metadata": {},
     "output_type": "display_data"
    },
    {
     "data": {
      "text/plain": [
       "<Figure size 640x480 with 0 Axes>"
      ]
     },
     "metadata": {},
     "output_type": "display_data"
    }
   ],
   "source": [
    "# plot tail length by breed\n",
    "sns.histplot(data=dogs_wtp, x='tail_length', hue='breed', palette='husl', kde=True, bins=30)\n",
    "plt.xticks(rotation=35)\n",
    "plt.show()\n",
    "plt.clf()\n",
    "sns.histplot(data=dogs_ps, x='tail_length', hue='breed', palette='husl', kde=True, bins=30)\n",
    "plt.xticks(rotation=35)\n",
    "plt.show()\n",
    "plt.clf()"
   ]
  }
 ],
 "metadata": {
  "kernelspec": {
   "display_name": "Python 3",
   "language": "python",
   "name": "python3"
  },
  "language_info": {
   "codemirror_mode": {
    "name": "ipython",
    "version": 3
   },
   "file_extension": ".py",
   "mimetype": "text/x-python",
   "name": "python",
   "nbconvert_exporter": "python",
   "pygments_lexer": "ipython3",
   "version": "3.12.1"
  }
 },
 "nbformat": 4,
 "nbformat_minor": 2
}
