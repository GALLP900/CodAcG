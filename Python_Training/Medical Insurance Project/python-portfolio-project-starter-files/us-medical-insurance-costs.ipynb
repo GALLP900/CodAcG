{
 "cells": [
  {
   "cell_type": "markdown",
   "metadata": {},
   "source": [
    "# U.S. Medical Insurance Costs"
   ]
  },
  {
   "cell_type": "markdown",
   "metadata": {},
   "source": [
    "Insurance Handler converts the csv file to a list"
   ]
  },
  {
   "cell_type": "code",
   "execution_count": 98,
   "metadata": {},
   "outputs": [],
   "source": [
    "import csv\n",
    "import statistics\n",
    "import pandas as pd\n",
    "def insurance_file_manager():\n",
    "    with open (\"insurance.csv\") as insurance_data:\n",
    "        insurance_cost = csv.DictReader(insurance_data)\n",
    "        insurances = []\n",
    "        for items in insurance_cost:\n",
    "            insurances.append(items)\n",
    "    return insurances\n",
    "insurance_list = insurance_file_manager()"
   ]
  },
  {
   "cell_type": "markdown",
   "metadata": {},
   "source": [
    "Insurance Cost Data Handling"
   ]
  },
  {
   "cell_type": "code",
   "execution_count": 99,
   "metadata": {},
   "outputs": [
    {
     "name": "stdout",
     "output_type": "stream",
     "text": [
      "The total insurance costs is: 17755825.04 USD\n",
      "The average insurance cost is: 13270.42 USD\n"
     ]
    }
   ],
   "source": [
    "def insurance_cost_manager(insurance_list):\n",
    "    total_insurance_cost = 0\n",
    "    for items in insurance_list:\n",
    "        cost = float(items[\"charges\"])\n",
    "        total_insurance_cost = round((total_insurance_cost + cost),2)\n",
    "    print (\"The total insurance costs is: \" + str(total_insurance_cost) + \" USD\")\n",
    "    avg_insurance_cost = round(total_insurance_cost/len(insurance_list),2)\n",
    "    print (\"The average insurance cost is: \" + str(avg_insurance_cost) + \" USD\")\n",
    "    return total_insurance_cost, avg_insurance_cost\n",
    "total_cost = insurance_cost_manager(insurance_list)"
   ]
  },
  {
   "cell_type": "markdown",
   "metadata": {},
   "source": [
    "Insurance Age Data Handling"
   ]
  },
  {
   "cell_type": "code",
   "execution_count": 100,
   "metadata": {},
   "outputs": [
    {
     "name": "stdout",
     "output_type": "stream",
     "text": [
      "The average age is: 39.21 years\n",
      "The most common age is: 18 years\n",
      "The variation of age is: 14.05 years\n",
      "The oldest client is: 64 years old\n",
      "The youngest cliest is: 18 years old\n"
     ]
    }
   ],
   "source": [
    "def insurance_age_manager(insurance_list):\n",
    "    ages = []\n",
    "    max_age = 0\n",
    "    min_age = float('inf')\n",
    "    for items in insurance_list:\n",
    "        ages.append(int(items[\"age\"]))\n",
    "        age_comp = int(items[\"age\"])\n",
    "        if age_comp > int(max_age):\n",
    "            max_age = items[\"age\"]\n",
    "        if age_comp < (min_age):\n",
    "            min_age = age_comp\n",
    "    average_age = round(statistics.mean(ages),2)\n",
    "    mode_age = round(statistics.mode(ages),1)\n",
    "    standard_dev = round(statistics.stdev(ages),2)\n",
    "    print (\"The average age is: \" + str(average_age) + \" years\")\n",
    "    print (\"The most common age is: \" + str(mode_age) + \" years\")\n",
    "    print (\"The variation of age is: \" + str(standard_dev) + \" years\")\n",
    "    print (\"The oldest client is: \" + str(max_age) + \" years old\")\n",
    "    print (\"The youngest cliest is: \" + str(min_age) + \" years old\")\n",
    "    return average_age, mode_age, standard_dev, max_age, min_age\n",
    "ages = insurance_age_manager(insurance_list)"
   ]
  },
  {
   "cell_type": "markdown",
   "metadata": {},
   "source": [
    "Insurance Genre Data Handling"
   ]
  },
  {
   "cell_type": "code",
   "execution_count": 101,
   "metadata": {},
   "outputs": [
    {
     "name": "stdout",
     "output_type": "stream",
     "text": [
      "There are 662 females insured\n",
      "There are 676 males insured\n"
     ]
    }
   ],
   "source": [
    "def insurance_genre_manager(insurance_list):\n",
    "    females = 0\n",
    "    males = 0\n",
    "    for items in insurance_list:\n",
    "        if items[\"sex\"] == \"male\":\n",
    "            males += 1\n",
    "        if items[\"sex\"] == \"female\":\n",
    "            females += 1\n",
    "    print(\"There are \" + str(females) + \" females insured\")\n",
    "    print(\"There are \" + str(males) + \" males insured\")\n",
    "    return females,males\n",
    "gender_dist = insurance_genre_manager(insurance_list)\n"
   ]
  },
  {
   "cell_type": "markdown",
   "metadata": {},
   "source": [
    "Analyze the Smokers Data with the data from the class"
   ]
  },
  {
   "cell_type": "code",
   "execution_count": 102,
   "metadata": {},
   "outputs": [
    {
     "name": "stdout",
     "output_type": "stream",
     "text": [
      "Smokers Average cost is: 6563.35\n",
      "Non Smokers Average cost is: 6707.07\n"
     ]
    }
   ],
   "source": [
    "def insurance_smoker_manager(insurance_list):\n",
    "    charges_smokers = 0\n",
    "    charges_non_smokers = 0\n",
    "    for items in insurance_list:\n",
    "        if items[\"smoker\"] == \"yes\":\n",
    "            charges_smokers = charges_smokers + float(items[\"charges\"])\n",
    "        if items[\"smoker\"] == \"no\":\n",
    "            charges_non_smokers = charges_non_smokers + float(items[\"charges\"])\n",
    "    avg_smokers = charges_smokers/len(insurance_list)\n",
    "    avg_non_smokers = charges_non_smokers/len(insurance_list)\n",
    "    print(\"Smokers Average cost is: \" + str(round(avg_smokers,2)))\n",
    "    print(\"Non Smokers Average cost is: \" + str(round(avg_non_smokers,2)))\n",
    "insurance_smoker_manager(insurance_list)"
   ]
  },
  {
   "cell_type": "markdown",
   "metadata": {},
   "source": [
    "Analyze Correlation between variables"
   ]
  },
  {
   "cell_type": "code",
   "execution_count": 116,
   "metadata": {},
   "outputs": [
    {
     "name": "stdout",
     "output_type": "stream",
     "text": [
      "0.3\n",
      "0.07\n",
      "0.2\n",
      "           Age  Charges   Bmi  Children\n",
      "Age       1.00     0.30  0.11      0.04\n",
      "Charges   0.30     1.00  0.20      0.07\n",
      "Bmi       0.11     0.20  1.00      0.01\n",
      "Children  0.04     0.07  0.01      1.00\n"
     ]
    }
   ],
   "source": [
    "def insurance_age_manager(insurance_list):\n",
    "    ages = []\n",
    "    charges =[]\n",
    "    children = []\n",
    "    bmi = []\n",
    "    for items in insurance_list:\n",
    "        ages.append(float(items[\"age\"]))\n",
    "        charges.append(float(items[\"charges\"]))\n",
    "        children.append(float(items[\"children\"]))\n",
    "        bmi.append(float(items[\"bmi\"]))\n",
    "    corr_age_charge= round(statistics.correlation(ages,charges),2)\n",
    "    corr_children_charge= round(statistics.correlation(children,charges),2)\n",
    "    corr_bmi_charge = round(statistics.correlation(bmi,charges),2)\n",
    "    #this is to create a correlation matrix\n",
    "    #import pandas as pd is necessary, work with a dictionary\n",
    "    #the resulting variable is a 2D data frame\n",
    "    matrix = pd.DataFrame({\"Age\": ages, \"Charges\": charges, \"Bmi\": bmi, \"Children\": children})\n",
    "    corr_matrix = matrix.corr()\n",
    "    rounded_corr_matrix = corr_matrix.round(2)\n",
    "    print(corr_age_charge)\n",
    "    print(corr_children_charge)\n",
    "    print(corr_bmi_charge)\n",
    "    print(rounded_corr_matrix)\n",
    "    return rounded_corr_matrix\n",
    "Correlations = insurance_age_manager(insurance_list)"
   ]
  },
  {
   "cell_type": "markdown",
   "metadata": {},
   "source": [
    "Creating a Class for the Insurance Data"
   ]
  },
  {
   "cell_type": "code",
   "execution_count": 104,
   "metadata": {},
   "outputs": [],
   "source": [
    "class insurance_patients_info:\n",
    "    def _init_(self,insurance_list):\n",
    "        self.insurance_list = insurance_list\n",
    "    def ages(self):\n",
    "        ages = []\n",
    "        for items in insurance_list:\n",
    "            ages.append(items[\"age\"])\n",
    "        return(ages)\n",
    "    def sexes(self):\n",
    "        sexes = []\n",
    "        for items in insurance_list:\n",
    "            sexes.append(items[\"sex\"])\n",
    "        return(sexes)\n",
    "    def bmis(self):\n",
    "        bmis=[]\n",
    "        for items in insurance_list:\n",
    "            bmis.append(items[\"bmi\"])\n",
    "        return bmis\n",
    "    def children(self):\n",
    "        children =[]\n",
    "        for items in insurance_list:\n",
    "            children.append(items[\"children\"])\n",
    "        return children\n",
    "    def smokers (self):\n",
    "        smokers=[]\n",
    "        for items in insurance_list:\n",
    "            smokers.append(items[\"smoker\"])\n",
    "        return smokers\n",
    "    def regions (self):\n",
    "        regions =[]\n",
    "        for items in insurance_list:\n",
    "            regions.append(items[\"region\"])\n",
    "        return regions\n",
    "    def charges (self):\n",
    "        charges =[]\n",
    "        for items in insurance_list:\n",
    "            charges.append(items[\"charges\"])\n",
    "        return charges\n",
    "    def dictionary (self):\n",
    "        insurance_dict= {\"age\": [], \"sex\": [], \"bmi\": [], \"children\": [], \"smoker\":[], \"region\":[]}\n",
    "        for items in range(len(insurance_list)):\n",
    "            insurance_dict[\"age\"].append(insurance_list[items][\"age\"])\n",
    "            insurance_dict[\"sex\"].append(insurance_list[items][\"sex\"])\n",
    "            insurance_dict[\"bmi\"].append(insurance_list[items][\"bmi\"])\n",
    "            insurance_dict[\"children\"].append(insurance_list[items][\"children\"])\n",
    "            insurance_dict[\"smoker\"].append(insurance_list[items][\"smoker\"])\n",
    "            insurance_dict[\"region\"].append(insurance_list[items][\"region\"])\n",
    "        return insurance_dict"
   ]
  },
  {
   "cell_type": "code",
   "execution_count": 105,
   "metadata": {},
   "outputs": [],
   "source": [
    "patients_info = insurance_patients_info()\n",
    "ages_list=patients_info.ages()\n",
    "sexes_list=patients_info.sexes()\n",
    "bmis_list=patients_info.bmis()\n",
    "children_list=patients_info.children()\n",
    "smokers_list=patients_info.smokers()\n",
    "regions_list=patients_info.regions()\n",
    "charges_list=patients_info.charges()\n",
    "insurance_dict=patients_info.dictionary()"
   ]
  }
 ],
 "metadata": {
  "kernelspec": {
   "display_name": "Python 3",
   "language": "python",
   "name": "python3"
  },
  "language_info": {
   "codemirror_mode": {
    "name": "ipython",
    "version": 3
   },
   "file_extension": ".py",
   "mimetype": "text/x-python",
   "name": "python",
   "nbconvert_exporter": "python",
   "pygments_lexer": "ipython3",
   "version": "3.11.6"
  }
 },
 "nbformat": 4,
 "nbformat_minor": 4
}
