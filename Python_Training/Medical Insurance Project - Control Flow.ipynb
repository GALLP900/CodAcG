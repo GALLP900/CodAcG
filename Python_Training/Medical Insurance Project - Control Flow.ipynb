{
 "cells": [
  {
   "cell_type": "code",
   "execution_count": 1,
   "id": "cd0155e8-cc4e-4dfb-95d6-9621efb76457",
   "metadata": {
    "tags": []
   },
   "outputs": [
    {
     "name": "stdout",
     "output_type": "stream",
     "text": [
      "To lower your cost, you should consider quitting smoking.\n",
      "You have access to a premium insurance fee\n",
      "Keanu's Estimated Insurance Cost: 20247 dollars.\n",
      "Smoking is not an issue for you.\n",
      "You have no insurance fee\n",
      "Gustavo's Estimated Insurance Cost: 11772 dollars.\n",
      "Smoking is not an issue for you.\n",
      "You have access to a standard insurance fee\n",
      "Claire's Estimated Insurance Cost: 10172 dollars.\n"
     ]
    }
   ],
   "source": [
    "# Add your code here\n",
    "def analyze_smoker(smoker_status):\n",
    "  if smoker_status==1:\n",
    "    print(\"To lower your cost, you should consider quitting smoking.\")\n",
    "  else:\n",
    "    print(\"Smoking is not an issue for you.\") \n",
    "def analyze_age(age_status):\n",
    "  if age_status >=18 and age_status <=29:\n",
    "    print(\"You have access to a premium insurance fee\")\n",
    "  elif age_status >20 and age_status <=35:\n",
    "    print(\"You have access to a standard insurance fee\")\n",
    "  elif age_status >35:\n",
    "    print(\"You have no insurance fee\")\n",
    "# Function to estimate insurance cost:\n",
    "def estimate_insurance_cost(name, age, sex, num_of_children, smoker):\n",
    "  estimated_cost = 400*age - 128*sex + 425*num_of_children + 10000*smoker - 2500\n",
    "  analyze_smoker (smoker)\n",
    "  analyze_age(age)\n",
    "  print(name + \"'s Estimated Insurance Cost: \" + str(estimated_cost) + \" dollars.\")\n",
    "  return estimated_cost\n",
    " \n",
    "# Estimate Keanu's insurance cost\n",
    "keanu_insurance_cost = estimate_insurance_cost(name = 'Keanu', age = 29, sex = 1, num_of_children = 3, smoker = 1)\n",
    "gustavo_insurance_cost = estimate_insurance_cost(\"Gustavo\",36,1,0,0)\n",
    "claire_insurance_cost = estimate_insurance_cost(\"Claire\",32,1,0,0)"
   ]
  },
  {
   "cell_type": "code",
   "execution_count": null,
   "id": "656516f4-8d75-49e6-aaa8-27feb64189a2",
   "metadata": {},
   "outputs": [],
   "source": []
  }
 ],
 "metadata": {
  "kernelspec": {
   "display_name": "Python 3 (ipykernel)",
   "language": "python",
   "name": "python3"
  },
  "language_info": {
   "codemirror_mode": {
    "name": "ipython",
    "version": 3
   },
   "file_extension": ".py",
   "mimetype": "text/x-python",
   "name": "python",
   "nbconvert_exporter": "python",
   "pygments_lexer": "ipython3",
   "version": "3.11.4"
  }
 },
 "nbformat": 4,
 "nbformat_minor": 5
}
