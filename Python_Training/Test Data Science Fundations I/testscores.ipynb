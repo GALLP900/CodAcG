{
 "cells": [
  {
   "cell_type": "code",
   "execution_count": 29,
   "metadata": {},
   "outputs": [
    {
     "name": "stdout",
     "output_type": "stream",
     "text": [
      "{'Gina': [80, 72, 90], 'Javed': [88, 68, 81], 'Siobhan': [80, 82, 84], 'Pedro': [98, 96, 95], 'Marcel': [78, 80, 78], 'Dilip': [64, 60, 75]}\n",
      "{'Gina': [81, 72, 90], 'Javed': [89, 68, 81], 'Siobhan': [81, 82, 84], 'Pedro': [99, 96, 95], 'Marcel': [79, 80, 78], 'Dilip': [65, 60, 75]}\n",
      "<_io.TextIOWrapper name='modified_scores.txt' mode='w' encoding='utf-8'>\n"
     ]
    }
   ],
   "source": [
    "test_scores = {\"Gina\":[80, 72, 90], \"Javed\":[88, 68, 81], \"Siobhan\":[80, 82, 84], \"Pedro\":[98, 96, 95], \"Marcel\":[78, 80, 78], \"Dilip\":[64, 60, 75]}\n",
    "\n",
    "print(test_scores)\n",
    "\n",
    "## Modify dictionary\n",
    "new_scores = []\n",
    "for scores in test_scores.values():\n",
    "    scores[0] = scores[0] + 1\n",
    "    new_scores.append(scores)\n",
    "count = 0\n",
    "for students in test_scores:\n",
    "    students = new_scores[count]\n",
    "    count = count + 1\n",
    "print (test_scores)\n",
    "## Write to a text file\n",
    "with open('modified_scores.txt', 'w') as modified_scores:\n",
    "    modified_scores.write(str(test_scores))\n",
    "    #for student, scores in test_scores.items():\n",
    "        #modified_scores.write(f'{student}: {scores}\\n')\n",
    "print(modified_scores)\n"
   ]
  }
 ],
 "metadata": {
  "kernelspec": {
   "display_name": "base",
   "language": "python",
   "name": "python3"
  },
  "language_info": {
   "codemirror_mode": {
    "name": "ipython",
    "version": 3
   },
   "file_extension": ".py",
   "mimetype": "text/x-python",
   "name": "python",
   "nbconvert_exporter": "python",
   "pygments_lexer": "ipython3",
   "version": "3.11.6"
  }
 },
 "nbformat": 4,
 "nbformat_minor": 2
}
