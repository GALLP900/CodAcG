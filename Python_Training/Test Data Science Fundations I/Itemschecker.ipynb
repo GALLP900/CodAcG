{
 "cells": [
  {
   "cell_type": "code",
   "execution_count": 16,
   "metadata": {},
   "outputs": [
    {
     "name": "stdout",
     "output_type": "stream",
     "text": [
      "You were able to buy 10 items.\n",
      "Test 1: 10\n",
      "Test 2: 2\n"
     ]
    }
   ],
   "source": [
    "starting_money = 100\n",
    "starting_num_items = 10\n",
    "item_price = 4\n",
    "\n",
    "# Your code here\n",
    "def buy_items(money,stock,price):\n",
    "    num_bought = 0\n",
    "    stock_left = stock\n",
    "    money_left = money\n",
    "    while money_left >= price and stock_left > 0:\n",
    "        money_left = money_left - price\n",
    "        num_bought += 1\n",
    "        stock_left -= 1\n",
    "    return num_bought\n",
    "total = buy_items(starting_money, starting_num_items, item_price)\n",
    "print(\"You were able to buy \" + str(total) + \" items.\")\n",
    "\n",
    "# For testing purposes\n",
    "total_1 = buy_items(100, 10, 4)\n",
    "print(\"Test 1: \" + str(total_1))\n",
    "total_2 = buy_items(10, 10, 4)\n",
    "print(\"Test 2: \" + str(total_2))"
   ]
  }
 ],
 "metadata": {
  "kernelspec": {
   "display_name": "base",
   "language": "python",
   "name": "python3"
  },
  "language_info": {
   "codemirror_mode": {
    "name": "ipython",
    "version": 3
   },
   "file_extension": ".py",
   "mimetype": "text/x-python",
   "name": "python",
   "nbconvert_exporter": "python",
   "pygments_lexer": "ipython3",
   "version": "3.11.6"
  }
 },
 "nbformat": 4,
 "nbformat_minor": 2
}
