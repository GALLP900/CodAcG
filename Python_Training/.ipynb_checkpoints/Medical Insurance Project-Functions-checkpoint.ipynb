{
 "cells": [
  {
   "cell_type": "code",
   "execution_count": 1,
   "id": "75cd7be3-3630-4905-a441-766a32e85841",
   "metadata": {
    "tags": []
   },
   "outputs": [
    {
     "name": "stdout",
     "output_type": "stream",
     "text": [
      "The estimated insurance cost for Maria is:\n",
      "5469.0\n",
      "The estimated insurance cost for Omar is:\n",
      "28336.0\n",
      "The estimated insurance cost for Gustavo is:\n",
      "5400.0\n",
      "The difference in insurance costs is: -500 USD\n"
     ]
    }
   ],
   "source": [
    "# Create calculate_insurance_cost() function below: \n",
    "def calculate_insurance_cost(name,age,sex,bmi,num_of_children,smoker):\n",
    "  estimated_cost=250*age - 128*sex + 370*bmi + 425*num_of_children + 24000*smoker - 12500\n",
    "  output_message=\"The estimated insurance cost for \" + name + \" is:\"\n",
    "  print(output_message)\n",
    "  print(estimated_cost)\n",
    "  return output_message\n",
    "  return estimated_cost\n",
    "\n",
    "# Initial variables for Maria \n",
    "age = 28\n",
    "sex = 0  \n",
    "bmi = 26.2\n",
    "num_of_children = 3\n",
    "smoker = 0  \n",
    "\n",
    "# Estimate Maria's insurance cost\n",
    "maria_insurance_cost = calculate_insurance_cost(\"Maria\",28,0,26.2,3,0)\n",
    "\n",
    "# Initial variables for Omar\n",
    "age = 35\n",
    "sex = 1 \n",
    "bmi = 22.2\n",
    "num_of_children = 0\n",
    "smoker = 1  \n",
    "\n",
    "# Estimate Omar's insurance cost \n",
    "omar_insurance_cost = calculate_insurance_cost(\"Omar\",35,1,22.2,0,1)\n",
    "\n",
    "#Estimate Gustavo's insuracne cost\n",
    "gustavo_insurance_cost = calculate_insurance_cost(\"Gustavo\",36,1,24.4,0,0)\n",
    "\n",
    "# create a difference between the insurance costs\n",
    "def difference_insurance_cost(person_1,person_2):\n",
    "  difference_insurance=person_1-person_2\n",
    "  print (\"The difference in insurance costs is: \" + str(difference_insurance) + \" USD\")\n",
    "  return difference_insurance\n",
    "# call difference insurance costs function \n",
    "difference=difference_insurance_cost(4500,5000)"
   ]
  },
  {
   "cell_type": "code",
   "execution_count": null,
   "id": "63159fd0-7079-42d7-8ba8-5b4ec8e616ad",
   "metadata": {},
   "outputs": [],
   "source": []
  }
 ],
 "metadata": {
  "kernelspec": {
   "display_name": "Python 3 (ipykernel)",
   "language": "python",
   "name": "python3"
  },
  "language_info": {
   "codemirror_mode": {
    "name": "ipython",
    "version": 3
   },
   "file_extension": ".py",
   "mimetype": "text/x-python",
   "name": "python",
   "nbconvert_exporter": "python",
   "pygments_lexer": "ipython3",
   "version": "3.11.4"
  }
 },
 "nbformat": 4,
 "nbformat_minor": 5
}
