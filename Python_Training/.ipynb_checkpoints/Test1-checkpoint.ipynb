{
 "cells": [
  {
   "cell_type": "code",
   "execution_count": 1,
   "id": "7ef88de3-b533-460d-89bb-c09ffefc0d53",
   "metadata": {
    "tags": []
   },
   "outputs": [
    {
     "name": "stdout",
     "output_type": "stream",
     "text": [
      "30\n"
     ]
    }
   ],
   "source": [
    "A=10;\n",
    "B=20;\n",
    "print (A+B)"
   ]
  },
  {
   "cell_type": "code",
   "execution_count": null,
   "id": "e53ec3ed-59b9-4a49-8472-f195469a3f7a",
   "metadata": {},
   "outputs": [],
   "source": []
  }
 ],
 "metadata": {
  "kernelspec": {
   "display_name": "Python 3 (ipykernel)",
   "language": "python",
   "name": "python3"
  },
  "language_info": {
   "codemirror_mode": {
    "name": "ipython",
    "version": 3
   },
   "file_extension": ".py",
   "mimetype": "text/x-python",
   "name": "python",
   "nbconvert_exporter": "python",
   "pygments_lexer": "ipython3",
   "version": "3.11.4"
  }
 },
 "nbformat": 4,
 "nbformat_minor": 5
}
