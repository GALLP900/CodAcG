{
 "cells": [
  {
   "cell_type": "code",
   "execution_count": 2,
   "metadata": {},
   "outputs": [
    {
     "name": "stdout",
     "output_type": "stream",
     "text": [
      "LogisticRegression(C=79.75730446418702, max_iter=1000, penalty='l1',\n",
      "                   solver='liblinear')\n",
      "{'C': 79.75730446418702, 'penalty': 'l1'}\n",
      "0.9765526675786594\n",
      "0.958041958041958\n",
      "           C penalty     score\n",
      "0  31.964815      l1  0.974172\n",
      "1  49.738050      l1  0.971847\n",
      "2  10.762703      l2  0.960082\n",
      "3  79.757304      l1  0.976553\n",
      "4  97.996747      l2  0.967114\n",
      "5  76.677929      l2  0.964761\n",
      "6  39.033935      l1  0.974172\n",
      "7  41.232796      l2  0.967114\n"
     ]
    }
   ],
   "source": [
    "import pandas as pd\n",
    "from sklearn.datasets import load_breast_cancer\n",
    "from sklearn.model_selection import train_test_split\n",
    "from sklearn.linear_model import LogisticRegression\n",
    "from sklearn.model_selection import RandomizedSearchCV\n",
    "from scipy.stats import uniform\n",
    "\n",
    "# Load the data set\n",
    "cancer = load_breast_cancer()\n",
    "\n",
    "# Split the data into training and testing sets\n",
    "X = cancer.data\n",
    "y = cancer.target\n",
    "X_train, X_test, y_train, y_test = train_test_split(X, y)\n",
    "\n",
    "# Create distributions to draw hyperparameters from\n",
    "distributions = {'penalty': ['l1', 'l2'], 'C': uniform(loc=0, scale=100)}\n",
    "\n",
    "# The logistic regression model\n",
    "lr = LogisticRegression(solver = 'liblinear', max_iter = 1000)\n",
    "\n",
    "# Create a RandomizedSearchCV model\n",
    "clf = RandomizedSearchCV(lr, distributions, n_iter=8)\n",
    "\n",
    "## YOUR SOLUTION HERE ##\n",
    "clf.fit(X_train,y_train)\n",
    "best_model = clf.best_estimator_\n",
    "\n",
    "print(best_model)\n",
    "print(clf.best_params_)\n",
    "\n",
    "## YOUR SOLUTION HERE ##\n",
    "best_score = clf.best_score_\n",
    "test_score = clf.score(X_test,y_test)\n",
    "print(best_score)\n",
    "print(test_score)\n",
    "\n",
    "## YOUR SOLUTION HERE ##\n",
    "hyperparameter_values = pd.DataFrame(clf.cv_results_['params'])\n",
    "randomsearch_scores = pd.DataFrame(clf.cv_results_['mean_test_score'], columns = ['score'])\n",
    "\n",
    "df = pd.concat([hyperparameter_values, randomsearch_scores], axis = 1)\n",
    "print(df)"
   ]
  }
 ],
 "metadata": {
  "kernelspec": {
   "display_name": "Python 3",
   "language": "python",
   "name": "python3"
  },
  "language_info": {
   "codemirror_mode": {
    "name": "ipython",
    "version": 3
   },
   "file_extension": ".py",
   "mimetype": "text/x-python",
   "name": "python",
   "nbconvert_exporter": "python",
   "pygments_lexer": "ipython3",
   "version": "3.12.1"
  }
 },
 "nbformat": 4,
 "nbformat_minor": 2
}
