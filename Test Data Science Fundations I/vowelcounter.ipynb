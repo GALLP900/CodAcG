{
 "cells": [
  {
   "cell_type": "code",
   "execution_count": 15,
   "metadata": {},
   "outputs": [
    {
     "data": {
      "text/plain": [
       "5"
      ]
     },
     "execution_count": 15,
     "metadata": {},
     "output_type": "execute_result"
    }
   ],
   "source": [
    "vowels = [\"a\", \"e\", \"i\", \"o\", \"u\"]\n",
    "\n",
    "# Write your function here\n",
    "def vowel_counter(input_string):\n",
    "    \n",
    "    # Initialize a counter\n",
    "    count = 0\n",
    "    \n",
    "    # Iterate over each character in the string\n",
    "    for char in input_string:\n",
    "        # If the character is a vowel, increment the counter\n",
    "        if char in vowels:\n",
    "            count += 1\n",
    "            \n",
    "    # Return the count\n",
    "    return count\n",
    "vowel_counter(vowels)\n"
   ]
  }
 ],
 "metadata": {
  "kernelspec": {
   "display_name": "base",
   "language": "python",
   "name": "python3"
  },
  "language_info": {
   "codemirror_mode": {
    "name": "ipython",
    "version": 3
   },
   "file_extension": ".py",
   "mimetype": "text/x-python",
   "name": "python",
   "nbconvert_exporter": "python",
   "pygments_lexer": "ipython3",
   "version": "3.11.6"
  }
 },
 "nbformat": 4,
 "nbformat_minor": 2
}
